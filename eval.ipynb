{
 "cells": [
  {
   "cell_type": "code",
   "execution_count": 1,
   "id": "b645700d-a8bd-4dbe-abc4-a6e23d735718",
   "metadata": {},
   "outputs": [
    {
     "name": "stdout",
     "output_type": "stream",
     "text": [
      "Intel MKL WARNING: Support of Intel(R) Streaming SIMD Extensions 4.2 (Intel(R) SSE4.2) enabled only processors has been deprecated. Intel oneAPI Math Kernel Library 2025.0 will require Intel(R) Advanced Vector Extensions (Intel(R) AVX) instructions.\n",
      "Intel MKL WARNING: Support of Intel(R) Streaming SIMD Extensions 4.2 (Intel(R) SSE4.2) enabled only processors has been deprecated. Intel oneAPI Math Kernel Library 2025.0 will require Intel(R) Advanced Vector Extensions (Intel(R) AVX) instructions.\n"
     ]
    }
   ],
   "source": [
    "import os, time\n",
    "import openai\n",
    "import pandas as pd"
   ]
  },
  {
   "cell_type": "code",
   "execution_count": null,
   "id": "8c36d85c",
   "metadata": {},
   "outputs": [],
   "source": [
    "openai.api_key = \"XXXX\""
   ]
  },
  {
   "cell_type": "code",
   "execution_count": 4,
   "id": "9f1c6eb0-4a8a-4c02-963d-904ea4e20d17",
   "metadata": {},
   "outputs": [],
   "source": [
    "messages = [\n",
    "    {\n",
    "        \"role\": \"system\", \n",
    "        \"content\": \"You are a language teacher.\"} # INSERT YOUR SYSTEM PROMPT HERE, YOUR INSTRUCTION\n",
    "]"
   ]
  },
  {
   "cell_type": "code",
   "execution_count": 5,
   "id": "1f95b405-5a9a-4007-96f5-06fff5c1f319",
   "metadata": {},
   "outputs": [],
   "source": [
    "user_input = \"\"\"\n",
    "Please evaluate the following description from the scale from 1 to 7, 1 being linguistically plain and 7 being linguistically rich. \n",
    "```\n",
    "A domestic kitchen scene portrays a boy precariously standing on a stool, trying to access a cookie jar placed on an upper shelf. Beside him, a young girl stands with her arms raised in either anticipation or encouragement. Observing the children's activity, a woman stands by a kitchen sink, holding a dish. The room includes various kitchenware, a window with a serene outside view, and an accidental spill near the sink.\n",
    "```\n",
    "\"\"\"\n",
    "\n",
    "messages.append(\n",
    "    {\"role\": \"user\", \"content\": user_input}\n",
    ")"
   ]
  },
  {
   "cell_type": "code",
   "execution_count": 6,
   "id": "cad224f8-9a18-46c1-aa2e-6b2d9495a521",
   "metadata": {},
   "outputs": [
    {
     "name": "stdout",
     "output_type": "stream",
     "text": [
      "[{'role': 'system', 'content': 'You are a language teacher.'}, {'role': 'user', 'content': \"\\nPlease evaluate the following description from the scale from 1 to 7, 1 being linguistically plain and 7 being linguistically rich. \\n```\\nA domestic kitchen scene portrays a boy precariously standing on a stool, trying to access a cookie jar placed on an upper shelf. Beside him, a young girl stands with her arms raised in either anticipation or encouragement. Observing the children's activity, a woman stands by a kitchen sink, holding a dish. The room includes various kitchenware, a window with a serene outside view, and an accidental spill near the sink.\\n```\\n\"}]\n"
     ]
    }
   ],
   "source": [
    "print(messages)"
   ]
  },
  {
   "cell_type": "code",
   "execution_count": 8,
   "id": "3b007462-7406-425b-aff6-ddbd4f92d6ba",
   "metadata": {},
   "outputs": [
    {
     "name": "stdout",
     "output_type": "stream",
     "text": [
      "{\n",
      "  \"id\": \"chatcmpl-8HmJxTok5Xb8Thsy3AF7WHFtGYjMo\",\n",
      "  \"object\": \"chat.completion\",\n",
      "  \"created\": 1699248013,\n",
      "  \"model\": \"gpt-4-0613\",\n",
      "  \"choices\": [\n",
      "    {\n",
      "      \"index\": 0,\n",
      "      \"message\": {\n",
      "        \"role\": \"assistant\",\n",
      "        \"content\": \"I would rate this description as a 6. It is linguistically rich with vivid imagery and detail, engaging various senses and utilizing descriptive words that add to the complexity and depth of the scene. To elevate it to a 7, it could incorporate more metaphors, similes, or other linguistic elements that hint at emotions, underlying themes, or deeper interpretations.\"\n",
      "      },\n",
      "      \"finish_reason\": \"stop\"\n",
      "    }\n",
      "  ],\n",
      "  \"usage\": {\n",
      "    \"prompt_tokens\": 139,\n",
      "    \"completion_tokens\": 73,\n",
      "    \"total_tokens\": 212\n",
      "  }\n",
      "}\n"
     ]
    }
   ],
   "source": [
    "result = openai.ChatCompletion.create(\n",
    "    model=\"gpt-4\",\n",
    "    messages=messages,\n",
    "    timeout=30 # set a request timeout of 30 seconds\n",
    ")\n",
    "\n",
    "print(r)"
   ]
  }
 ],
 "metadata": {
  "kernelspec": {
   "display_name": "Python 3 (ipykernel)",
   "language": "python",
   "name": "python3"
  },
  "language_info": {
   "codemirror_mode": {
    "name": "ipython",
    "version": 3
   },
   "file_extension": ".py",
   "mimetype": "text/x-python",
   "name": "python",
   "nbconvert_exporter": "python",
   "pygments_lexer": "ipython3",
   "version": "3.10.13"
  }
 },
 "nbformat": 4,
 "nbformat_minor": 5
}
