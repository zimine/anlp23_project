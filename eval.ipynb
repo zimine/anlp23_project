{
 "cells": [
  {
   "cell_type": "code",
   "execution_count": 70,
   "id": "b645700d-a8bd-4dbe-abc4-a6e23d735718",
   "metadata": {},
   "outputs": [],
   "source": [
    "import os, time\n",
    "import openai\n",
    "import pandas as pd\n",
    "import base64\n",
    "import tqdm\n",
    "from tqdm import tqdm\n",
    "import pandas as pd\n",
    "import numpy as np\n",
    "import random \n"
   ]
  },
  {
   "cell_type": "code",
   "execution_count": 71,
   "metadata": {},
   "outputs": [],
   "source": [
    "cred_path = \"../../../Desktop/others/anlp_project/openaikey.txt\"\n",
    "image_path = \"data/pic.png\""
   ]
  },
  {
   "cell_type": "code",
   "execution_count": 72,
   "id": "8c36d85c",
   "metadata": {},
   "outputs": [],
   "source": [
    "with open(cred_path, encoding = 'utf-8') as f:\n",
    "  key = f.readline().strip()\n",
    "\n",
    "openai.api_key = key"
   ]
  },
  {
   "cell_type": "code",
   "execution_count": 73,
   "metadata": {},
   "outputs": [],
   "source": [
    "# Function to encode the image\n",
    "def encode_image(image_path):\n",
    "  with open(image_path, \"rb\") as image_file:\n",
    "    return base64.b64encode(image_file.read()).decode('utf-8')\n",
    "\n",
    "# Getting the base64 string\n",
    "base64_image = encode_image(image_path)"
   ]
  },
  {
   "cell_type": "code",
   "execution_count": 5,
   "metadata": {},
   "outputs": [],
   "source": [
    "def generate_text(temp, top_p):\n",
    "    response = openai.ChatCompletion.create(\n",
    "        model=\"gpt-4-vision-preview\",\n",
    "        temperature = temp,\n",
    "        top_p = top_p,\n",
    "        messages=[\n",
    "        {\n",
    "            \"role\": \"user\",\n",
    "            \"content\": [\n",
    "            {\n",
    "                \"type\": \"text\", \n",
    "                \"text\": \"What’s in this image?\"\n",
    "            },\n",
    "            {\n",
    "                \"type\": \"image_url\", \n",
    "                \"image_url\": {\n",
    "                \"url\": f\"data:image/jpeg;base64,{base64_image}\"}\n",
    "            }\n",
    "            ],\n",
    "        }\n",
    "        ],\n",
    "        max_tokens=300,\n",
    "    )\n",
    "\n",
    "    # col = [i]\n",
    "    data = {\"temperature\" : [temp],\n",
    "            \"top_p\" : [top_p],\n",
    "           \"description\": response.choices[0][\"message\"][\"content\"]\n",
    "           }\n",
    "    \n",
    "    df = pd.DataFrame(data)\n",
    "\n",
    "    return df\n",
    "    #return response.choices[0][\"message\"][\"content\"]\n"
   ]
  },
  {
   "cell_type": "code",
   "execution_count": 35,
   "metadata": {},
   "outputs": [],
   "source": [
    "def get_description_df(param_list, temp):\n",
    "  df = pd.DataFrame()\n",
    "  for i in tqdm(param_list):\n",
    "    # new = generate_text(temp=i, top_p=top_p)\n",
    "    new = generate_text(temp=temp, top_p=i)\n",
    "    df = pd.concat([df, new])\n",
    "  df = df.reset_index(drop=True)\n",
    "  return df"
   ]
  },
  {
   "cell_type": "code",
   "execution_count": 113,
   "metadata": {},
   "outputs": [],
   "source": [
    "# temps = np.arange(0.001, 1.001, 0.001)\n",
    "# tempsplit = np.array_split(temps, 20)"
   ]
  },
  {
   "cell_type": "code",
   "execution_count": 26,
   "metadata": {},
   "outputs": [
    {
     "data": {
      "text/plain": [
       "array([0.996, 0.997, 0.998, 0.999, 1.   ])"
      ]
     },
     "execution_count": 26,
     "metadata": {},
     "output_type": "execute_result"
    }
   ],
   "source": [
    "topps = np.arange(0.001, 1.001, 0.001)\n",
    "toppsplit = np.array_split(topps, 200)\n",
    "# tempsplit[111:]\n",
    "toppsplit[-1]"
   ]
  },
  {
   "cell_type": "code",
   "execution_count": null,
   "metadata": {},
   "outputs": [],
   "source": [
    "# temps = np.arange(0.001, 1.001, 0.001)\n",
    "# tempsplit = np.array_split(temps, 200)\n",
    "# tempsplit[111:]"
   ]
  },
  {
   "cell_type": "code",
   "execution_count": null,
   "metadata": {},
   "outputs": [],
   "source": [
    "for idx, topp in enumerate(toppsplit):\n",
    "    print(idx, topp)"
   ]
  },
  {
   "cell_type": "code",
   "execution_count": 39,
   "metadata": {},
   "outputs": [
    {
     "name": "stdout",
     "output_type": "stream",
     "text": [
      "0 [0.566 0.567 0.568 0.569 0.57 ]\n"
     ]
    },
    {
     "name": "stderr",
     "output_type": "stream",
     "text": [
      "100%|██████████| 5/5 [00:22<00:00,  4.49s/it]\n"
     ]
    },
    {
     "name": "stdout",
     "output_type": "stream",
     "text": [
      "1 [0.571 0.572 0.573 0.574 0.575]\n"
     ]
    },
    {
     "name": "stderr",
     "output_type": "stream",
     "text": [
      "100%|██████████| 5/5 [00:24<00:00,  4.86s/it]\n"
     ]
    },
    {
     "name": "stdout",
     "output_type": "stream",
     "text": [
      "2 [0.576 0.577 0.578 0.579 0.58 ]\n"
     ]
    },
    {
     "name": "stderr",
     "output_type": "stream",
     "text": [
      "100%|██████████| 5/5 [00:31<00:00,  6.32s/it]\n"
     ]
    },
    {
     "name": "stdout",
     "output_type": "stream",
     "text": [
      "3 [0.581 0.582 0.583 0.584 0.585]\n"
     ]
    },
    {
     "name": "stderr",
     "output_type": "stream",
     "text": [
      "100%|██████████| 5/5 [00:21<00:00,  4.28s/it]\n"
     ]
    },
    {
     "name": "stdout",
     "output_type": "stream",
     "text": [
      "4 [0.586 0.587 0.588 0.589 0.59 ]\n"
     ]
    },
    {
     "name": "stderr",
     "output_type": "stream",
     "text": [
      "100%|██████████| 5/5 [00:45<00:00,  9.09s/it]\n"
     ]
    },
    {
     "name": "stdout",
     "output_type": "stream",
     "text": [
      "5 [0.591 0.592 0.593 0.594 0.595]\n"
     ]
    },
    {
     "name": "stderr",
     "output_type": "stream",
     "text": [
      "100%|██████████| 5/5 [00:20<00:00,  4.19s/it]\n"
     ]
    },
    {
     "name": "stdout",
     "output_type": "stream",
     "text": [
      "6 [0.596 0.597 0.598 0.599 0.6  ]\n"
     ]
    },
    {
     "name": "stderr",
     "output_type": "stream",
     "text": [
      "100%|██████████| 5/5 [00:37<00:00,  7.53s/it]\n"
     ]
    },
    {
     "name": "stdout",
     "output_type": "stream",
     "text": [
      "7 [0.601 0.602 0.603 0.604 0.605]\n"
     ]
    },
    {
     "name": "stderr",
     "output_type": "stream",
     "text": [
      "100%|██████████| 5/5 [00:22<00:00,  4.50s/it]\n"
     ]
    },
    {
     "name": "stdout",
     "output_type": "stream",
     "text": [
      "8 [0.606 0.607 0.608 0.609 0.61 ]\n"
     ]
    },
    {
     "name": "stderr",
     "output_type": "stream",
     "text": [
      "100%|██████████| 5/5 [00:25<00:00,  5.02s/it]\n"
     ]
    },
    {
     "name": "stdout",
     "output_type": "stream",
     "text": [
      "9 [0.611 0.612 0.613 0.614 0.615]\n"
     ]
    },
    {
     "name": "stderr",
     "output_type": "stream",
     "text": [
      "100%|██████████| 5/5 [00:29<00:00,  5.88s/it]\n"
     ]
    },
    {
     "name": "stdout",
     "output_type": "stream",
     "text": [
      "10 [0.616 0.617 0.618 0.619 0.62 ]\n"
     ]
    },
    {
     "name": "stderr",
     "output_type": "stream",
     "text": [
      "100%|██████████| 5/5 [00:28<00:00,  5.61s/it]\n"
     ]
    },
    {
     "name": "stdout",
     "output_type": "stream",
     "text": [
      "11 [0.621 0.622 0.623 0.624 0.625]\n"
     ]
    },
    {
     "name": "stderr",
     "output_type": "stream",
     "text": [
      "100%|██████████| 5/5 [00:23<00:00,  4.75s/it]\n"
     ]
    },
    {
     "name": "stdout",
     "output_type": "stream",
     "text": [
      "12 [0.626 0.627 0.628 0.629 0.63 ]\n"
     ]
    },
    {
     "name": "stderr",
     "output_type": "stream",
     "text": [
      "100%|██████████| 5/5 [00:29<00:00,  5.95s/it]\n"
     ]
    },
    {
     "name": "stdout",
     "output_type": "stream",
     "text": [
      "13 [0.631 0.632 0.633 0.634 0.635]\n"
     ]
    },
    {
     "name": "stderr",
     "output_type": "stream",
     "text": [
      "100%|██████████| 5/5 [00:25<00:00,  5.12s/it]\n"
     ]
    },
    {
     "name": "stdout",
     "output_type": "stream",
     "text": [
      "14 [0.636 0.637 0.638 0.639 0.64 ]\n"
     ]
    },
    {
     "name": "stderr",
     "output_type": "stream",
     "text": [
      "100%|██████████| 5/5 [00:31<00:00,  6.26s/it]\n"
     ]
    },
    {
     "name": "stdout",
     "output_type": "stream",
     "text": [
      "15 [0.641 0.642 0.643 0.644 0.645]\n"
     ]
    },
    {
     "name": "stderr",
     "output_type": "stream",
     "text": [
      "100%|██████████| 5/5 [00:26<00:00,  5.35s/it]\n"
     ]
    },
    {
     "name": "stdout",
     "output_type": "stream",
     "text": [
      "16 [0.646 0.647 0.648 0.649 0.65 ]\n"
     ]
    },
    {
     "name": "stderr",
     "output_type": "stream",
     "text": [
      "100%|██████████| 5/5 [00:31<00:00,  6.37s/it]\n"
     ]
    },
    {
     "name": "stdout",
     "output_type": "stream",
     "text": [
      "17 [0.651 0.652 0.653 0.654 0.655]\n"
     ]
    },
    {
     "name": "stderr",
     "output_type": "stream",
     "text": [
      "100%|██████████| 5/5 [00:31<00:00,  6.26s/it]\n"
     ]
    },
    {
     "name": "stdout",
     "output_type": "stream",
     "text": [
      "18 [0.656 0.657 0.658 0.659 0.66 ]\n"
     ]
    },
    {
     "name": "stderr",
     "output_type": "stream",
     "text": [
      "100%|██████████| 5/5 [00:28<00:00,  5.64s/it]\n"
     ]
    },
    {
     "name": "stdout",
     "output_type": "stream",
     "text": [
      "19 [0.661 0.662 0.663 0.664 0.665]\n"
     ]
    },
    {
     "name": "stderr",
     "output_type": "stream",
     "text": [
      "100%|██████████| 5/5 [00:29<00:00,  5.90s/it]\n"
     ]
    },
    {
     "name": "stdout",
     "output_type": "stream",
     "text": [
      "20 [0.666 0.667 0.668 0.669 0.67 ]\n"
     ]
    },
    {
     "name": "stderr",
     "output_type": "stream",
     "text": [
      "100%|██████████| 5/5 [00:31<00:00,  6.30s/it]\n"
     ]
    },
    {
     "name": "stdout",
     "output_type": "stream",
     "text": [
      "21 [0.671 0.672 0.673 0.674 0.675]\n"
     ]
    },
    {
     "name": "stderr",
     "output_type": "stream",
     "text": [
      "100%|██████████| 5/5 [00:27<00:00,  5.49s/it]\n"
     ]
    },
    {
     "name": "stdout",
     "output_type": "stream",
     "text": [
      "22 [0.676 0.677 0.678 0.679 0.68 ]\n"
     ]
    },
    {
     "name": "stderr",
     "output_type": "stream",
     "text": [
      "100%|██████████| 5/5 [00:23<00:00,  4.76s/it]\n"
     ]
    },
    {
     "name": "stdout",
     "output_type": "stream",
     "text": [
      "23 [0.681 0.682 0.683 0.684 0.685]\n"
     ]
    },
    {
     "name": "stderr",
     "output_type": "stream",
     "text": [
      "100%|██████████| 5/5 [00:25<00:00,  5.19s/it]\n"
     ]
    },
    {
     "name": "stdout",
     "output_type": "stream",
     "text": [
      "24 [0.686 0.687 0.688 0.689 0.69 ]\n"
     ]
    },
    {
     "name": "stderr",
     "output_type": "stream",
     "text": [
      "100%|██████████| 5/5 [00:29<00:00,  5.81s/it]\n"
     ]
    },
    {
     "name": "stdout",
     "output_type": "stream",
     "text": [
      "25 [0.691 0.692 0.693 0.694 0.695]\n"
     ]
    },
    {
     "name": "stderr",
     "output_type": "stream",
     "text": [
      "100%|██████████| 5/5 [00:36<00:00,  7.26s/it]\n"
     ]
    },
    {
     "name": "stdout",
     "output_type": "stream",
     "text": [
      "26 [0.696 0.697 0.698 0.699 0.7  ]\n"
     ]
    },
    {
     "name": "stderr",
     "output_type": "stream",
     "text": [
      "100%|██████████| 5/5 [00:22<00:00,  4.40s/it]\n"
     ]
    },
    {
     "name": "stdout",
     "output_type": "stream",
     "text": [
      "27 [0.701 0.702 0.703 0.704 0.705]\n"
     ]
    },
    {
     "name": "stderr",
     "output_type": "stream",
     "text": [
      "100%|██████████| 5/5 [00:27<00:00,  5.55s/it]\n"
     ]
    },
    {
     "name": "stdout",
     "output_type": "stream",
     "text": [
      "28 [0.706 0.707 0.708 0.709 0.71 ]\n"
     ]
    },
    {
     "name": "stderr",
     "output_type": "stream",
     "text": [
      "100%|██████████| 5/5 [00:27<00:00,  5.58s/it]\n"
     ]
    },
    {
     "name": "stdout",
     "output_type": "stream",
     "text": [
      "29 [0.711 0.712 0.713 0.714 0.715]\n"
     ]
    },
    {
     "name": "stderr",
     "output_type": "stream",
     "text": [
      "100%|██████████| 5/5 [00:27<00:00,  5.60s/it]\n"
     ]
    },
    {
     "name": "stdout",
     "output_type": "stream",
     "text": [
      "30 [0.716 0.717 0.718 0.719 0.72 ]\n"
     ]
    },
    {
     "name": "stderr",
     "output_type": "stream",
     "text": [
      "100%|██████████| 5/5 [00:25<00:00,  5.17s/it]\n"
     ]
    },
    {
     "name": "stdout",
     "output_type": "stream",
     "text": [
      "31 [0.721 0.722 0.723 0.724 0.725]\n"
     ]
    },
    {
     "name": "stderr",
     "output_type": "stream",
     "text": [
      "100%|██████████| 5/5 [00:28<00:00,  5.69s/it]\n"
     ]
    },
    {
     "name": "stdout",
     "output_type": "stream",
     "text": [
      "32 [0.726 0.727 0.728 0.729 0.73 ]\n"
     ]
    },
    {
     "name": "stderr",
     "output_type": "stream",
     "text": [
      "100%|██████████| 5/5 [00:39<00:00,  7.89s/it]\n"
     ]
    },
    {
     "name": "stdout",
     "output_type": "stream",
     "text": [
      "33 [0.731 0.732 0.733 0.734 0.735]\n"
     ]
    },
    {
     "name": "stderr",
     "output_type": "stream",
     "text": [
      "100%|██████████| 5/5 [00:22<00:00,  4.60s/it]\n"
     ]
    },
    {
     "name": "stdout",
     "output_type": "stream",
     "text": [
      "34 [0.736 0.737 0.738 0.739 0.74 ]\n"
     ]
    },
    {
     "name": "stderr",
     "output_type": "stream",
     "text": [
      "100%|██████████| 5/5 [00:22<00:00,  4.41s/it]\n"
     ]
    },
    {
     "name": "stdout",
     "output_type": "stream",
     "text": [
      "35 [0.741 0.742 0.743 0.744 0.745]\n"
     ]
    },
    {
     "name": "stderr",
     "output_type": "stream",
     "text": [
      "100%|██████████| 5/5 [00:36<00:00,  7.27s/it]\n"
     ]
    },
    {
     "name": "stdout",
     "output_type": "stream",
     "text": [
      "36 [0.746 0.747 0.748 0.749 0.75 ]\n"
     ]
    },
    {
     "name": "stderr",
     "output_type": "stream",
     "text": [
      "100%|██████████| 5/5 [00:25<00:00,  5.15s/it]\n"
     ]
    },
    {
     "name": "stdout",
     "output_type": "stream",
     "text": [
      "37 [0.751 0.752 0.753 0.754 0.755]\n"
     ]
    },
    {
     "name": "stderr",
     "output_type": "stream",
     "text": [
      "100%|██████████| 5/5 [00:22<00:00,  4.58s/it]\n"
     ]
    },
    {
     "name": "stdout",
     "output_type": "stream",
     "text": [
      "38 [0.756 0.757 0.758 0.759 0.76 ]\n"
     ]
    },
    {
     "name": "stderr",
     "output_type": "stream",
     "text": [
      "100%|██████████| 5/5 [00:27<00:00,  5.42s/it]\n"
     ]
    },
    {
     "name": "stdout",
     "output_type": "stream",
     "text": [
      "39 [0.761 0.762 0.763 0.764 0.765]\n"
     ]
    },
    {
     "name": "stderr",
     "output_type": "stream",
     "text": [
      "100%|██████████| 5/5 [00:23<00:00,  4.74s/it]\n"
     ]
    },
    {
     "name": "stdout",
     "output_type": "stream",
     "text": [
      "40 [0.766 0.767 0.768 0.769 0.77 ]\n"
     ]
    },
    {
     "name": "stderr",
     "output_type": "stream",
     "text": [
      "100%|██████████| 5/5 [00:26<00:00,  5.21s/it]\n"
     ]
    },
    {
     "name": "stdout",
     "output_type": "stream",
     "text": [
      "41 [0.771 0.772 0.773 0.774 0.775]\n"
     ]
    },
    {
     "name": "stderr",
     "output_type": "stream",
     "text": [
      "100%|██████████| 5/5 [00:32<00:00,  6.41s/it]\n"
     ]
    },
    {
     "name": "stdout",
     "output_type": "stream",
     "text": [
      "42 [0.776 0.777 0.778 0.779 0.78 ]\n"
     ]
    },
    {
     "name": "stderr",
     "output_type": "stream",
     "text": [
      "100%|██████████| 5/5 [00:23<00:00,  4.65s/it]\n"
     ]
    },
    {
     "name": "stdout",
     "output_type": "stream",
     "text": [
      "43 [0.781 0.782 0.783 0.784 0.785]\n"
     ]
    },
    {
     "name": "stderr",
     "output_type": "stream",
     "text": [
      "100%|██████████| 5/5 [00:22<00:00,  4.53s/it]\n"
     ]
    },
    {
     "name": "stdout",
     "output_type": "stream",
     "text": [
      "44 [0.786 0.787 0.788 0.789 0.79 ]\n"
     ]
    },
    {
     "name": "stderr",
     "output_type": "stream",
     "text": [
      "100%|██████████| 5/5 [00:21<00:00,  4.38s/it]\n"
     ]
    },
    {
     "name": "stdout",
     "output_type": "stream",
     "text": [
      "45 [0.791 0.792 0.793 0.794 0.795]\n"
     ]
    },
    {
     "name": "stderr",
     "output_type": "stream",
     "text": [
      "100%|██████████| 5/5 [00:30<00:00,  6.11s/it]\n"
     ]
    },
    {
     "name": "stdout",
     "output_type": "stream",
     "text": [
      "46 [0.796 0.797 0.798 0.799 0.8  ]\n"
     ]
    },
    {
     "name": "stderr",
     "output_type": "stream",
     "text": [
      "100%|██████████| 5/5 [00:26<00:00,  5.32s/it]\n"
     ]
    },
    {
     "name": "stdout",
     "output_type": "stream",
     "text": [
      "47 [0.801 0.802 0.803 0.804 0.805]\n"
     ]
    },
    {
     "name": "stderr",
     "output_type": "stream",
     "text": [
      "100%|██████████| 5/5 [00:21<00:00,  4.38s/it]\n"
     ]
    },
    {
     "name": "stdout",
     "output_type": "stream",
     "text": [
      "48 [0.806 0.807 0.808 0.809 0.81 ]\n"
     ]
    },
    {
     "name": "stderr",
     "output_type": "stream",
     "text": [
      "100%|██████████| 5/5 [00:21<00:00,  4.35s/it]\n"
     ]
    },
    {
     "name": "stdout",
     "output_type": "stream",
     "text": [
      "49 [0.811 0.812 0.813 0.814 0.815]\n"
     ]
    },
    {
     "name": "stderr",
     "output_type": "stream",
     "text": [
      "100%|██████████| 5/5 [00:23<00:00,  4.75s/it]\n"
     ]
    },
    {
     "name": "stdout",
     "output_type": "stream",
     "text": [
      "50 [0.816 0.817 0.818 0.819 0.82 ]\n"
     ]
    },
    {
     "name": "stderr",
     "output_type": "stream",
     "text": [
      "100%|██████████| 5/5 [00:25<00:00,  5.18s/it]\n"
     ]
    },
    {
     "name": "stdout",
     "output_type": "stream",
     "text": [
      "51 [0.821 0.822 0.823 0.824 0.825]\n"
     ]
    },
    {
     "name": "stderr",
     "output_type": "stream",
     "text": [
      "100%|██████████| 5/5 [00:24<00:00,  4.95s/it]\n"
     ]
    },
    {
     "name": "stdout",
     "output_type": "stream",
     "text": [
      "52 [0.826 0.827 0.828 0.829 0.83 ]\n"
     ]
    },
    {
     "name": "stderr",
     "output_type": "stream",
     "text": [
      "100%|██████████| 5/5 [00:27<00:00,  5.47s/it]\n"
     ]
    },
    {
     "name": "stdout",
     "output_type": "stream",
     "text": [
      "53 [0.831 0.832 0.833 0.834 0.835]\n"
     ]
    },
    {
     "name": "stderr",
     "output_type": "stream",
     "text": [
      "100%|██████████| 5/5 [00:22<00:00,  4.50s/it]\n"
     ]
    },
    {
     "name": "stdout",
     "output_type": "stream",
     "text": [
      "54 [0.836 0.837 0.838 0.839 0.84 ]\n"
     ]
    },
    {
     "name": "stderr",
     "output_type": "stream",
     "text": [
      "100%|██████████| 5/5 [00:24<00:00,  4.85s/it]\n"
     ]
    },
    {
     "name": "stdout",
     "output_type": "stream",
     "text": [
      "55 [0.841 0.842 0.843 0.844 0.845]\n"
     ]
    },
    {
     "name": "stderr",
     "output_type": "stream",
     "text": [
      "100%|██████████| 5/5 [00:27<00:00,  5.46s/it]\n"
     ]
    },
    {
     "name": "stdout",
     "output_type": "stream",
     "text": [
      "56 [0.846 0.847 0.848 0.849 0.85 ]\n"
     ]
    },
    {
     "name": "stderr",
     "output_type": "stream",
     "text": [
      "100%|██████████| 5/5 [00:25<00:00,  5.03s/it]\n"
     ]
    },
    {
     "name": "stdout",
     "output_type": "stream",
     "text": [
      "57 [0.851 0.852 0.853 0.854 0.855]\n"
     ]
    },
    {
     "name": "stderr",
     "output_type": "stream",
     "text": [
      "100%|██████████| 5/5 [00:22<00:00,  4.40s/it]\n"
     ]
    },
    {
     "name": "stdout",
     "output_type": "stream",
     "text": [
      "58 [0.856 0.857 0.858 0.859 0.86 ]\n"
     ]
    },
    {
     "name": "stderr",
     "output_type": "stream",
     "text": [
      "100%|██████████| 5/5 [00:31<00:00,  6.32s/it]\n"
     ]
    },
    {
     "name": "stdout",
     "output_type": "stream",
     "text": [
      "59 [0.861 0.862 0.863 0.864 0.865]\n"
     ]
    },
    {
     "name": "stderr",
     "output_type": "stream",
     "text": [
      "100%|██████████| 5/5 [00:33<00:00,  6.76s/it]\n"
     ]
    },
    {
     "name": "stdout",
     "output_type": "stream",
     "text": [
      "60 [0.866 0.867 0.868 0.869 0.87 ]\n"
     ]
    },
    {
     "name": "stderr",
     "output_type": "stream",
     "text": [
      "100%|██████████| 5/5 [00:26<00:00,  5.28s/it]\n"
     ]
    },
    {
     "name": "stdout",
     "output_type": "stream",
     "text": [
      "61 [0.871 0.872 0.873 0.874 0.875]\n"
     ]
    },
    {
     "name": "stderr",
     "output_type": "stream",
     "text": [
      "100%|██████████| 5/5 [00:38<00:00,  7.76s/it]\n"
     ]
    },
    {
     "name": "stdout",
     "output_type": "stream",
     "text": [
      "62 [0.876 0.877 0.878 0.879 0.88 ]\n"
     ]
    },
    {
     "name": "stderr",
     "output_type": "stream",
     "text": [
      "100%|██████████| 5/5 [00:28<00:00,  5.67s/it]\n"
     ]
    },
    {
     "name": "stdout",
     "output_type": "stream",
     "text": [
      "63 [0.881 0.882 0.883 0.884 0.885]\n"
     ]
    },
    {
     "name": "stderr",
     "output_type": "stream",
     "text": [
      "100%|██████████| 5/5 [00:28<00:00,  5.65s/it]\n"
     ]
    },
    {
     "name": "stdout",
     "output_type": "stream",
     "text": [
      "64 [0.886 0.887 0.888 0.889 0.89 ]\n"
     ]
    },
    {
     "name": "stderr",
     "output_type": "stream",
     "text": [
      "100%|██████████| 5/5 [00:27<00:00,  5.47s/it]\n"
     ]
    },
    {
     "name": "stdout",
     "output_type": "stream",
     "text": [
      "65 [0.891 0.892 0.893 0.894 0.895]\n"
     ]
    },
    {
     "name": "stderr",
     "output_type": "stream",
     "text": [
      "100%|██████████| 5/5 [00:32<00:00,  6.43s/it]\n"
     ]
    },
    {
     "name": "stdout",
     "output_type": "stream",
     "text": [
      "66 [0.896 0.897 0.898 0.899 0.9  ]\n"
     ]
    },
    {
     "name": "stderr",
     "output_type": "stream",
     "text": [
      "100%|██████████| 5/5 [00:26<00:00,  5.33s/it]\n"
     ]
    },
    {
     "name": "stdout",
     "output_type": "stream",
     "text": [
      "67 [0.901 0.902 0.903 0.904 0.905]\n"
     ]
    },
    {
     "name": "stderr",
     "output_type": "stream",
     "text": [
      "100%|██████████| 5/5 [00:21<00:00,  4.36s/it]\n"
     ]
    },
    {
     "name": "stdout",
     "output_type": "stream",
     "text": [
      "68 [0.906 0.907 0.908 0.909 0.91 ]\n"
     ]
    },
    {
     "name": "stderr",
     "output_type": "stream",
     "text": [
      "100%|██████████| 5/5 [00:28<00:00,  5.78s/it]\n"
     ]
    },
    {
     "name": "stdout",
     "output_type": "stream",
     "text": [
      "69 [0.911 0.912 0.913 0.914 0.915]\n"
     ]
    },
    {
     "name": "stderr",
     "output_type": "stream",
     "text": [
      "100%|██████████| 5/5 [00:24<00:00,  4.91s/it]\n"
     ]
    },
    {
     "name": "stdout",
     "output_type": "stream",
     "text": [
      "70 [0.916 0.917 0.918 0.919 0.92 ]\n"
     ]
    },
    {
     "name": "stderr",
     "output_type": "stream",
     "text": [
      "100%|██████████| 5/5 [00:21<00:00,  4.36s/it]\n"
     ]
    },
    {
     "name": "stdout",
     "output_type": "stream",
     "text": [
      "71 [0.921 0.922 0.923 0.924 0.925]\n"
     ]
    },
    {
     "name": "stderr",
     "output_type": "stream",
     "text": [
      "100%|██████████| 5/5 [00:28<00:00,  5.67s/it]\n"
     ]
    },
    {
     "name": "stdout",
     "output_type": "stream",
     "text": [
      "72 [0.926 0.927 0.928 0.929 0.93 ]\n"
     ]
    },
    {
     "name": "stderr",
     "output_type": "stream",
     "text": [
      "100%|██████████| 5/5 [00:24<00:00,  4.80s/it]\n"
     ]
    },
    {
     "name": "stdout",
     "output_type": "stream",
     "text": [
      "73 [0.931 0.932 0.933 0.934 0.935]\n"
     ]
    },
    {
     "name": "stderr",
     "output_type": "stream",
     "text": [
      "100%|██████████| 5/5 [00:31<00:00,  6.34s/it]\n"
     ]
    },
    {
     "name": "stdout",
     "output_type": "stream",
     "text": [
      "74 [0.936 0.937 0.938 0.939 0.94 ]\n"
     ]
    },
    {
     "name": "stderr",
     "output_type": "stream",
     "text": [
      "100%|██████████| 5/5 [00:21<00:00,  4.35s/it]\n"
     ]
    },
    {
     "name": "stdout",
     "output_type": "stream",
     "text": [
      "75 [0.941 0.942 0.943 0.944 0.945]\n"
     ]
    },
    {
     "name": "stderr",
     "output_type": "stream",
     "text": [
      "100%|██████████| 5/5 [00:29<00:00,  5.97s/it]\n"
     ]
    },
    {
     "name": "stdout",
     "output_type": "stream",
     "text": [
      "76 [0.946 0.947 0.948 0.949 0.95 ]\n"
     ]
    },
    {
     "name": "stderr",
     "output_type": "stream",
     "text": [
      "100%|██████████| 5/5 [00:22<00:00,  4.41s/it]\n"
     ]
    },
    {
     "name": "stdout",
     "output_type": "stream",
     "text": [
      "77 [0.951 0.952 0.953 0.954 0.955]\n"
     ]
    },
    {
     "name": "stderr",
     "output_type": "stream",
     "text": [
      "100%|██████████| 5/5 [00:27<00:00,  5.54s/it]\n"
     ]
    },
    {
     "name": "stdout",
     "output_type": "stream",
     "text": [
      "78 [0.956 0.957 0.958 0.959 0.96 ]\n"
     ]
    },
    {
     "name": "stderr",
     "output_type": "stream",
     "text": [
      "100%|██████████| 5/5 [00:25<00:00,  5.10s/it]\n"
     ]
    },
    {
     "name": "stdout",
     "output_type": "stream",
     "text": [
      "79 [0.961 0.962 0.963 0.964 0.965]\n"
     ]
    },
    {
     "name": "stderr",
     "output_type": "stream",
     "text": [
      "100%|██████████| 5/5 [00:26<00:00,  5.34s/it]\n"
     ]
    },
    {
     "name": "stdout",
     "output_type": "stream",
     "text": [
      "80 [0.966 0.967 0.968 0.969 0.97 ]\n"
     ]
    },
    {
     "name": "stderr",
     "output_type": "stream",
     "text": [
      "100%|██████████| 5/5 [00:24<00:00,  4.83s/it]\n"
     ]
    },
    {
     "name": "stdout",
     "output_type": "stream",
     "text": [
      "81 [0.971 0.972 0.973 0.974 0.975]\n"
     ]
    },
    {
     "name": "stderr",
     "output_type": "stream",
     "text": [
      "100%|██████████| 5/5 [00:21<00:00,  4.24s/it]\n"
     ]
    },
    {
     "name": "stdout",
     "output_type": "stream",
     "text": [
      "82 [0.976 0.977 0.978 0.979 0.98 ]\n"
     ]
    },
    {
     "name": "stderr",
     "output_type": "stream",
     "text": [
      "100%|██████████| 5/5 [00:22<00:00,  4.40s/it]\n"
     ]
    },
    {
     "name": "stdout",
     "output_type": "stream",
     "text": [
      "83 [0.981 0.982 0.983 0.984 0.985]\n"
     ]
    },
    {
     "name": "stderr",
     "output_type": "stream",
     "text": [
      "100%|██████████| 5/5 [00:30<00:00,  6.18s/it]\n"
     ]
    },
    {
     "name": "stdout",
     "output_type": "stream",
     "text": [
      "84 [0.986 0.987 0.988 0.989 0.99 ]\n"
     ]
    },
    {
     "name": "stderr",
     "output_type": "stream",
     "text": [
      "100%|██████████| 5/5 [00:34<00:00,  6.85s/it]\n"
     ]
    },
    {
     "name": "stdout",
     "output_type": "stream",
     "text": [
      "85 [0.991 0.992 0.993 0.994 0.995]\n"
     ]
    },
    {
     "name": "stderr",
     "output_type": "stream",
     "text": [
      "100%|██████████| 5/5 [00:31<00:00,  6.28s/it]\n"
     ]
    },
    {
     "name": "stdout",
     "output_type": "stream",
     "text": [
      "86 [0.996 0.997 0.998 0.999 1.   ]\n"
     ]
    },
    {
     "name": "stderr",
     "output_type": "stream",
     "text": [
      "100%|██████████| 5/5 [00:24<00:00,  4.89s/it]\n"
     ]
    }
   ],
   "source": [
    "for idx, topp in enumerate(toppsplit[113:]):\n",
    "    print(idx, topp)\n",
    "    df_continue = get_description_df(param_list=topp, temp=1)\n",
    "    topp_name = str(np.round(topp[-1], decimals=3))\n",
    "    df_continue.to_pickle('data/topp_data_4v/df_'+topp_name+'.pkl')"
   ]
  },
  {
   "cell_type": "code",
   "execution_count": 9,
   "metadata": {},
   "outputs": [
    {
     "name": "stdout",
     "output_type": "stream",
     "text": [
      "[0.561 0.562 0.563 0.564 0.565]\n"
     ]
    },
    {
     "name": "stderr",
     "output_type": "stream",
     "text": [
      "100%|██████████| 5/5 [00:31<00:00,  6.39s/it]\n"
     ]
    },
    {
     "name": "stdout",
     "output_type": "stream",
     "text": [
      "[0.566 0.567 0.568 0.569 0.57 ]\n"
     ]
    },
    {
     "name": "stderr",
     "output_type": "stream",
     "text": [
      "100%|██████████| 5/5 [00:33<00:00,  6.79s/it]\n"
     ]
    },
    {
     "name": "stdout",
     "output_type": "stream",
     "text": [
      "[0.571 0.572 0.573 0.574 0.575]\n"
     ]
    },
    {
     "name": "stderr",
     "output_type": "stream",
     "text": [
      "100%|██████████| 5/5 [00:36<00:00,  7.35s/it]\n"
     ]
    },
    {
     "name": "stdout",
     "output_type": "stream",
     "text": [
      "[0.576 0.577 0.578 0.579 0.58 ]\n"
     ]
    },
    {
     "name": "stderr",
     "output_type": "stream",
     "text": [
      "100%|██████████| 5/5 [00:25<00:00,  5.18s/it]\n"
     ]
    },
    {
     "name": "stdout",
     "output_type": "stream",
     "text": [
      "[0.581 0.582 0.583 0.584 0.585]\n"
     ]
    },
    {
     "name": "stderr",
     "output_type": "stream",
     "text": [
      "100%|██████████| 5/5 [00:27<00:00,  5.55s/it]\n"
     ]
    },
    {
     "name": "stdout",
     "output_type": "stream",
     "text": [
      "[0.586 0.587 0.588 0.589 0.59 ]\n"
     ]
    },
    {
     "name": "stderr",
     "output_type": "stream",
     "text": [
      "100%|██████████| 5/5 [00:28<00:00,  5.71s/it]\n"
     ]
    },
    {
     "name": "stdout",
     "output_type": "stream",
     "text": [
      "[0.591 0.592 0.593 0.594 0.595]\n"
     ]
    },
    {
     "name": "stderr",
     "output_type": "stream",
     "text": [
      "100%|██████████| 5/5 [00:34<00:00,  6.86s/it]\n"
     ]
    },
    {
     "name": "stdout",
     "output_type": "stream",
     "text": [
      "[0.596 0.597 0.598 0.599 0.6  ]\n"
     ]
    },
    {
     "name": "stderr",
     "output_type": "stream",
     "text": [
      "100%|██████████| 5/5 [00:26<00:00,  5.24s/it]\n"
     ]
    },
    {
     "name": "stdout",
     "output_type": "stream",
     "text": [
      "[0.601 0.602 0.603 0.604 0.605]\n"
     ]
    },
    {
     "name": "stderr",
     "output_type": "stream",
     "text": [
      "100%|██████████| 5/5 [00:36<00:00,  7.30s/it]\n"
     ]
    },
    {
     "name": "stdout",
     "output_type": "stream",
     "text": [
      "[0.606 0.607 0.608 0.609 0.61 ]\n"
     ]
    },
    {
     "name": "stderr",
     "output_type": "stream",
     "text": [
      "100%|██████████| 5/5 [00:28<00:00,  5.68s/it]\n"
     ]
    },
    {
     "name": "stdout",
     "output_type": "stream",
     "text": [
      "[0.611 0.612 0.613 0.614 0.615]\n"
     ]
    },
    {
     "name": "stderr",
     "output_type": "stream",
     "text": [
      "100%|██████████| 5/5 [00:36<00:00,  7.31s/it]\n"
     ]
    },
    {
     "name": "stdout",
     "output_type": "stream",
     "text": [
      "[0.616 0.617 0.618 0.619 0.62 ]\n"
     ]
    },
    {
     "name": "stderr",
     "output_type": "stream",
     "text": [
      "100%|██████████| 5/5 [00:27<00:00,  5.48s/it]\n"
     ]
    },
    {
     "name": "stdout",
     "output_type": "stream",
     "text": [
      "[0.621 0.622 0.623 0.624 0.625]\n"
     ]
    },
    {
     "name": "stderr",
     "output_type": "stream",
     "text": [
      "100%|██████████| 5/5 [00:30<00:00,  6.04s/it]\n"
     ]
    },
    {
     "name": "stdout",
     "output_type": "stream",
     "text": [
      "[0.626 0.627 0.628 0.629 0.63 ]\n"
     ]
    },
    {
     "name": "stderr",
     "output_type": "stream",
     "text": [
      "100%|██████████| 5/5 [00:31<00:00,  6.21s/it]\n"
     ]
    },
    {
     "name": "stdout",
     "output_type": "stream",
     "text": [
      "[0.631 0.632 0.633 0.634 0.635]\n"
     ]
    },
    {
     "name": "stderr",
     "output_type": "stream",
     "text": [
      "100%|██████████| 5/5 [00:22<00:00,  4.48s/it]\n"
     ]
    },
    {
     "name": "stdout",
     "output_type": "stream",
     "text": [
      "[0.636 0.637 0.638 0.639 0.64 ]\n"
     ]
    },
    {
     "name": "stderr",
     "output_type": "stream",
     "text": [
      "100%|██████████| 5/5 [00:23<00:00,  4.64s/it]\n"
     ]
    },
    {
     "name": "stdout",
     "output_type": "stream",
     "text": [
      "[0.641 0.642 0.643 0.644 0.645]\n"
     ]
    },
    {
     "name": "stderr",
     "output_type": "stream",
     "text": [
      "100%|██████████| 5/5 [00:26<00:00,  5.29s/it]\n"
     ]
    },
    {
     "name": "stdout",
     "output_type": "stream",
     "text": [
      "[0.646 0.647 0.648 0.649 0.65 ]\n"
     ]
    },
    {
     "name": "stderr",
     "output_type": "stream",
     "text": [
      "100%|██████████| 5/5 [00:31<00:00,  6.28s/it]\n"
     ]
    },
    {
     "name": "stdout",
     "output_type": "stream",
     "text": [
      "[0.651 0.652 0.653 0.654 0.655]\n"
     ]
    },
    {
     "name": "stderr",
     "output_type": "stream",
     "text": [
      "100%|██████████| 5/5 [00:33<00:00,  6.60s/it]\n"
     ]
    },
    {
     "name": "stdout",
     "output_type": "stream",
     "text": [
      "[0.656 0.657 0.658 0.659 0.66 ]\n"
     ]
    },
    {
     "name": "stderr",
     "output_type": "stream",
     "text": [
      "100%|██████████| 5/5 [00:25<00:00,  5.04s/it]\n"
     ]
    },
    {
     "name": "stdout",
     "output_type": "stream",
     "text": [
      "[0.661 0.662 0.663 0.664 0.665]\n"
     ]
    },
    {
     "name": "stderr",
     "output_type": "stream",
     "text": [
      "100%|██████████| 5/5 [00:25<00:00,  5.10s/it]\n"
     ]
    },
    {
     "name": "stdout",
     "output_type": "stream",
     "text": [
      "[0.666 0.667 0.668 0.669 0.67 ]\n"
     ]
    },
    {
     "name": "stderr",
     "output_type": "stream",
     "text": [
      "100%|██████████| 5/5 [00:29<00:00,  5.80s/it]\n"
     ]
    },
    {
     "name": "stdout",
     "output_type": "stream",
     "text": [
      "[0.671 0.672 0.673 0.674 0.675]\n"
     ]
    },
    {
     "name": "stderr",
     "output_type": "stream",
     "text": [
      "100%|██████████| 5/5 [00:32<00:00,  6.42s/it]\n"
     ]
    },
    {
     "name": "stdout",
     "output_type": "stream",
     "text": [
      "[0.676 0.677 0.678 0.679 0.68 ]\n"
     ]
    },
    {
     "name": "stderr",
     "output_type": "stream",
     "text": [
      "100%|██████████| 5/5 [00:29<00:00,  5.93s/it]\n"
     ]
    },
    {
     "name": "stdout",
     "output_type": "stream",
     "text": [
      "[0.681 0.682 0.683 0.684 0.685]\n"
     ]
    },
    {
     "name": "stderr",
     "output_type": "stream",
     "text": [
      "100%|██████████| 5/5 [00:31<00:00,  6.22s/it]\n"
     ]
    },
    {
     "name": "stdout",
     "output_type": "stream",
     "text": [
      "[0.686 0.687 0.688 0.689 0.69 ]\n"
     ]
    },
    {
     "name": "stderr",
     "output_type": "stream",
     "text": [
      "100%|██████████| 5/5 [00:27<00:00,  5.49s/it]\n"
     ]
    },
    {
     "name": "stdout",
     "output_type": "stream",
     "text": [
      "[0.691 0.692 0.693 0.694 0.695]\n"
     ]
    },
    {
     "name": "stderr",
     "output_type": "stream",
     "text": [
      "100%|██████████| 5/5 [00:24<00:00,  4.98s/it]\n"
     ]
    },
    {
     "name": "stdout",
     "output_type": "stream",
     "text": [
      "[0.696 0.697 0.698 0.699 0.7  ]\n"
     ]
    },
    {
     "name": "stderr",
     "output_type": "stream",
     "text": [
      "100%|██████████| 5/5 [00:24<00:00,  4.94s/it]\n"
     ]
    },
    {
     "name": "stdout",
     "output_type": "stream",
     "text": [
      "[0.701 0.702 0.703 0.704 0.705]\n"
     ]
    },
    {
     "name": "stderr",
     "output_type": "stream",
     "text": [
      "100%|██████████| 5/5 [00:35<00:00,  7.06s/it]\n"
     ]
    },
    {
     "name": "stdout",
     "output_type": "stream",
     "text": [
      "[0.706 0.707 0.708 0.709 0.71 ]\n"
     ]
    },
    {
     "name": "stderr",
     "output_type": "stream",
     "text": [
      "100%|██████████| 5/5 [00:35<00:00,  7.07s/it]\n"
     ]
    },
    {
     "name": "stdout",
     "output_type": "stream",
     "text": [
      "[0.711 0.712 0.713 0.714 0.715]\n"
     ]
    },
    {
     "name": "stderr",
     "output_type": "stream",
     "text": [
      "100%|██████████| 5/5 [00:37<00:00,  7.51s/it]\n"
     ]
    },
    {
     "name": "stdout",
     "output_type": "stream",
     "text": [
      "[0.716 0.717 0.718 0.719 0.72 ]\n"
     ]
    },
    {
     "name": "stderr",
     "output_type": "stream",
     "text": [
      "100%|██████████| 5/5 [00:22<00:00,  4.51s/it]\n"
     ]
    },
    {
     "name": "stdout",
     "output_type": "stream",
     "text": [
      "[0.721 0.722 0.723 0.724 0.725]\n"
     ]
    },
    {
     "name": "stderr",
     "output_type": "stream",
     "text": [
      "100%|██████████| 5/5 [00:39<00:00,  7.82s/it]\n"
     ]
    },
    {
     "name": "stdout",
     "output_type": "stream",
     "text": [
      "[0.726 0.727 0.728 0.729 0.73 ]\n"
     ]
    },
    {
     "name": "stderr",
     "output_type": "stream",
     "text": [
      "100%|██████████| 5/5 [00:30<00:00,  6.02s/it]\n"
     ]
    },
    {
     "name": "stdout",
     "output_type": "stream",
     "text": [
      "[0.731 0.732 0.733 0.734 0.735]\n"
     ]
    },
    {
     "name": "stderr",
     "output_type": "stream",
     "text": [
      "100%|██████████| 5/5 [00:26<00:00,  5.24s/it]\n"
     ]
    },
    {
     "name": "stdout",
     "output_type": "stream",
     "text": [
      "[0.736 0.737 0.738 0.739 0.74 ]\n"
     ]
    },
    {
     "name": "stderr",
     "output_type": "stream",
     "text": [
      "100%|██████████| 5/5 [00:25<00:00,  5.12s/it]\n"
     ]
    },
    {
     "name": "stdout",
     "output_type": "stream",
     "text": [
      "[0.741 0.742 0.743 0.744 0.745]\n"
     ]
    },
    {
     "name": "stderr",
     "output_type": "stream",
     "text": [
      "100%|██████████| 5/5 [00:25<00:00,  5.14s/it]\n"
     ]
    },
    {
     "name": "stdout",
     "output_type": "stream",
     "text": [
      "[0.746 0.747 0.748 0.749 0.75 ]\n"
     ]
    },
    {
     "name": "stderr",
     "output_type": "stream",
     "text": [
      "100%|██████████| 5/5 [00:29<00:00,  5.89s/it]\n"
     ]
    },
    {
     "name": "stdout",
     "output_type": "stream",
     "text": [
      "[0.751 0.752 0.753 0.754 0.755]\n"
     ]
    },
    {
     "name": "stderr",
     "output_type": "stream",
     "text": [
      "100%|██████████| 5/5 [00:32<00:00,  6.46s/it]\n"
     ]
    },
    {
     "name": "stdout",
     "output_type": "stream",
     "text": [
      "[0.756 0.757 0.758 0.759 0.76 ]\n"
     ]
    },
    {
     "name": "stderr",
     "output_type": "stream",
     "text": [
      "100%|██████████| 5/5 [00:28<00:00,  5.71s/it]\n"
     ]
    },
    {
     "name": "stdout",
     "output_type": "stream",
     "text": [
      "[0.761 0.762 0.763 0.764 0.765]\n"
     ]
    },
    {
     "name": "stderr",
     "output_type": "stream",
     "text": [
      "100%|██████████| 5/5 [00:31<00:00,  6.22s/it]\n"
     ]
    },
    {
     "name": "stdout",
     "output_type": "stream",
     "text": [
      "[0.766 0.767 0.768 0.769 0.77 ]\n"
     ]
    },
    {
     "name": "stderr",
     "output_type": "stream",
     "text": [
      "100%|██████████| 5/5 [00:30<00:00,  6.17s/it]\n"
     ]
    },
    {
     "name": "stdout",
     "output_type": "stream",
     "text": [
      "[0.771 0.772 0.773 0.774 0.775]\n"
     ]
    },
    {
     "name": "stderr",
     "output_type": "stream",
     "text": [
      "100%|██████████| 5/5 [00:36<00:00,  7.20s/it]\n"
     ]
    },
    {
     "name": "stdout",
     "output_type": "stream",
     "text": [
      "[0.776 0.777 0.778 0.779 0.78 ]\n"
     ]
    },
    {
     "name": "stderr",
     "output_type": "stream",
     "text": [
      "100%|██████████| 5/5 [00:23<00:00,  4.63s/it]\n"
     ]
    },
    {
     "name": "stdout",
     "output_type": "stream",
     "text": [
      "[0.781 0.782 0.783 0.784 0.785]\n"
     ]
    },
    {
     "name": "stderr",
     "output_type": "stream",
     "text": [
      "100%|██████████| 5/5 [00:29<00:00,  5.90s/it]\n"
     ]
    },
    {
     "name": "stdout",
     "output_type": "stream",
     "text": [
      "[0.786 0.787 0.788 0.789 0.79 ]\n"
     ]
    },
    {
     "name": "stderr",
     "output_type": "stream",
     "text": [
      "100%|██████████| 5/5 [00:21<00:00,  4.39s/it]\n"
     ]
    },
    {
     "name": "stdout",
     "output_type": "stream",
     "text": [
      "[0.791 0.792 0.793 0.794 0.795]\n"
     ]
    },
    {
     "name": "stderr",
     "output_type": "stream",
     "text": [
      "100%|██████████| 5/5 [00:28<00:00,  5.65s/it]\n"
     ]
    },
    {
     "name": "stdout",
     "output_type": "stream",
     "text": [
      "[0.796 0.797 0.798 0.799 0.8  ]\n"
     ]
    },
    {
     "name": "stderr",
     "output_type": "stream",
     "text": [
      "100%|██████████| 5/5 [00:20<00:00,  4.08s/it]\n"
     ]
    },
    {
     "name": "stdout",
     "output_type": "stream",
     "text": [
      "[0.801 0.802 0.803 0.804 0.805]\n"
     ]
    },
    {
     "name": "stderr",
     "output_type": "stream",
     "text": [
      "100%|██████████| 5/5 [00:30<00:00,  6.08s/it]\n"
     ]
    },
    {
     "name": "stdout",
     "output_type": "stream",
     "text": [
      "[0.806 0.807 0.808 0.809 0.81 ]\n"
     ]
    },
    {
     "name": "stderr",
     "output_type": "stream",
     "text": [
      "100%|██████████| 5/5 [00:25<00:00,  5.19s/it]\n"
     ]
    },
    {
     "name": "stdout",
     "output_type": "stream",
     "text": [
      "[0.811 0.812 0.813 0.814 0.815]\n"
     ]
    },
    {
     "name": "stderr",
     "output_type": "stream",
     "text": [
      "100%|██████████| 5/5 [00:47<00:00,  9.41s/it]\n"
     ]
    },
    {
     "name": "stdout",
     "output_type": "stream",
     "text": [
      "[0.816 0.817 0.818 0.819 0.82 ]\n"
     ]
    },
    {
     "name": "stderr",
     "output_type": "stream",
     "text": [
      "100%|██████████| 5/5 [00:28<00:00,  5.70s/it]\n"
     ]
    },
    {
     "name": "stdout",
     "output_type": "stream",
     "text": [
      "[0.821 0.822 0.823 0.824 0.825]\n"
     ]
    },
    {
     "name": "stderr",
     "output_type": "stream",
     "text": [
      "100%|██████████| 5/5 [00:40<00:00,  8.13s/it]\n"
     ]
    },
    {
     "name": "stdout",
     "output_type": "stream",
     "text": [
      "[0.826 0.827 0.828 0.829 0.83 ]\n"
     ]
    },
    {
     "name": "stderr",
     "output_type": "stream",
     "text": [
      "100%|██████████| 5/5 [00:29<00:00,  5.81s/it]\n"
     ]
    },
    {
     "name": "stdout",
     "output_type": "stream",
     "text": [
      "[0.831 0.832 0.833 0.834 0.835]\n"
     ]
    },
    {
     "name": "stderr",
     "output_type": "stream",
     "text": [
      "100%|██████████| 5/5 [00:27<00:00,  5.51s/it]\n"
     ]
    },
    {
     "name": "stdout",
     "output_type": "stream",
     "text": [
      "[0.836 0.837 0.838 0.839 0.84 ]\n"
     ]
    },
    {
     "name": "stderr",
     "output_type": "stream",
     "text": [
      "100%|██████████| 5/5 [00:37<00:00,  7.43s/it]\n"
     ]
    },
    {
     "name": "stdout",
     "output_type": "stream",
     "text": [
      "[0.841 0.842 0.843 0.844 0.845]\n"
     ]
    },
    {
     "name": "stderr",
     "output_type": "stream",
     "text": [
      "100%|██████████| 5/5 [00:37<00:00,  7.56s/it]\n"
     ]
    },
    {
     "name": "stdout",
     "output_type": "stream",
     "text": [
      "[0.846 0.847 0.848 0.849 0.85 ]\n"
     ]
    },
    {
     "name": "stderr",
     "output_type": "stream",
     "text": [
      "100%|██████████| 5/5 [00:25<00:00,  5.17s/it]\n"
     ]
    },
    {
     "name": "stdout",
     "output_type": "stream",
     "text": [
      "[0.851 0.852 0.853 0.854 0.855]\n"
     ]
    },
    {
     "name": "stderr",
     "output_type": "stream",
     "text": [
      "100%|██████████| 5/5 [00:27<00:00,  5.41s/it]\n"
     ]
    },
    {
     "name": "stdout",
     "output_type": "stream",
     "text": [
      "[0.856 0.857 0.858 0.859 0.86 ]\n"
     ]
    },
    {
     "name": "stderr",
     "output_type": "stream",
     "text": [
      "100%|██████████| 5/5 [00:31<00:00,  6.32s/it]\n"
     ]
    },
    {
     "name": "stdout",
     "output_type": "stream",
     "text": [
      "[0.861 0.862 0.863 0.864 0.865]\n"
     ]
    },
    {
     "name": "stderr",
     "output_type": "stream",
     "text": [
      "100%|██████████| 5/5 [00:24<00:00,  4.99s/it]\n"
     ]
    },
    {
     "name": "stdout",
     "output_type": "stream",
     "text": [
      "[0.866 0.867 0.868 0.869 0.87 ]\n"
     ]
    },
    {
     "name": "stderr",
     "output_type": "stream",
     "text": [
      "100%|██████████| 5/5 [00:39<00:00,  7.92s/it]\n"
     ]
    },
    {
     "name": "stdout",
     "output_type": "stream",
     "text": [
      "[0.871 0.872 0.873 0.874 0.875]\n"
     ]
    },
    {
     "name": "stderr",
     "output_type": "stream",
     "text": [
      "100%|██████████| 5/5 [00:22<00:00,  4.52s/it]\n"
     ]
    },
    {
     "name": "stdout",
     "output_type": "stream",
     "text": [
      "[0.876 0.877 0.878 0.879 0.88 ]\n"
     ]
    },
    {
     "name": "stderr",
     "output_type": "stream",
     "text": [
      "100%|██████████| 5/5 [00:30<00:00,  6.02s/it]\n"
     ]
    },
    {
     "name": "stdout",
     "output_type": "stream",
     "text": [
      "[0.881 0.882 0.883 0.884 0.885]\n"
     ]
    },
    {
     "name": "stderr",
     "output_type": "stream",
     "text": [
      "100%|██████████| 5/5 [00:39<00:00,  7.80s/it]\n"
     ]
    },
    {
     "name": "stdout",
     "output_type": "stream",
     "text": [
      "[0.886 0.887 0.888 0.889 0.89 ]\n"
     ]
    },
    {
     "name": "stderr",
     "output_type": "stream",
     "text": [
      "100%|██████████| 5/5 [00:25<00:00,  5.06s/it]\n"
     ]
    },
    {
     "name": "stdout",
     "output_type": "stream",
     "text": [
      "[0.891 0.892 0.893 0.894 0.895]\n"
     ]
    },
    {
     "name": "stderr",
     "output_type": "stream",
     "text": [
      "100%|██████████| 5/5 [00:24<00:00,  4.83s/it]\n"
     ]
    },
    {
     "name": "stdout",
     "output_type": "stream",
     "text": [
      "[0.896 0.897 0.898 0.899 0.9  ]\n"
     ]
    },
    {
     "name": "stderr",
     "output_type": "stream",
     "text": [
      "100%|██████████| 5/5 [00:22<00:00,  4.59s/it]\n"
     ]
    },
    {
     "name": "stdout",
     "output_type": "stream",
     "text": [
      "[0.901 0.902 0.903 0.904 0.905]\n"
     ]
    },
    {
     "name": "stderr",
     "output_type": "stream",
     "text": [
      "100%|██████████| 5/5 [00:35<00:00,  7.18s/it]\n"
     ]
    },
    {
     "name": "stdout",
     "output_type": "stream",
     "text": [
      "[0.906 0.907 0.908 0.909 0.91 ]\n"
     ]
    },
    {
     "name": "stderr",
     "output_type": "stream",
     "text": [
      "100%|██████████| 5/5 [00:22<00:00,  4.57s/it]\n"
     ]
    },
    {
     "name": "stdout",
     "output_type": "stream",
     "text": [
      "[0.911 0.912 0.913 0.914 0.915]\n"
     ]
    },
    {
     "name": "stderr",
     "output_type": "stream",
     "text": [
      "100%|██████████| 5/5 [00:32<00:00,  6.51s/it]\n"
     ]
    },
    {
     "name": "stdout",
     "output_type": "stream",
     "text": [
      "[0.916 0.917 0.918 0.919 0.92 ]\n"
     ]
    },
    {
     "name": "stderr",
     "output_type": "stream",
     "text": [
      "100%|██████████| 5/5 [00:41<00:00,  8.31s/it]\n"
     ]
    },
    {
     "name": "stdout",
     "output_type": "stream",
     "text": [
      "[0.921 0.922 0.923 0.924 0.925]\n"
     ]
    },
    {
     "name": "stderr",
     "output_type": "stream",
     "text": [
      "100%|██████████| 5/5 [00:24<00:00,  4.94s/it]\n"
     ]
    },
    {
     "name": "stdout",
     "output_type": "stream",
     "text": [
      "[0.926 0.927 0.928 0.929 0.93 ]\n"
     ]
    },
    {
     "name": "stderr",
     "output_type": "stream",
     "text": [
      "100%|██████████| 5/5 [00:35<00:00,  7.07s/it]\n"
     ]
    },
    {
     "name": "stdout",
     "output_type": "stream",
     "text": [
      "[0.931 0.932 0.933 0.934 0.935]\n"
     ]
    },
    {
     "name": "stderr",
     "output_type": "stream",
     "text": [
      "100%|██████████| 5/5 [00:26<00:00,  5.25s/it]\n"
     ]
    },
    {
     "name": "stdout",
     "output_type": "stream",
     "text": [
      "[0.936 0.937 0.938 0.939 0.94 ]\n"
     ]
    },
    {
     "name": "stderr",
     "output_type": "stream",
     "text": [
      "100%|██████████| 5/5 [00:43<00:00,  8.68s/it]\n"
     ]
    },
    {
     "name": "stdout",
     "output_type": "stream",
     "text": [
      "[0.941 0.942 0.943 0.944 0.945]\n"
     ]
    },
    {
     "name": "stderr",
     "output_type": "stream",
     "text": [
      "100%|██████████| 5/5 [00:33<00:00,  6.70s/it]\n"
     ]
    },
    {
     "name": "stdout",
     "output_type": "stream",
     "text": [
      "[0.946 0.947 0.948 0.949 0.95 ]\n"
     ]
    },
    {
     "name": "stderr",
     "output_type": "stream",
     "text": [
      "100%|██████████| 5/5 [00:38<00:00,  7.77s/it]\n"
     ]
    },
    {
     "name": "stdout",
     "output_type": "stream",
     "text": [
      "[0.951 0.952 0.953 0.954 0.955]\n"
     ]
    },
    {
     "name": "stderr",
     "output_type": "stream",
     "text": [
      "100%|██████████| 5/5 [00:30<00:00,  6.02s/it]\n"
     ]
    },
    {
     "name": "stdout",
     "output_type": "stream",
     "text": [
      "[0.956 0.957 0.958 0.959 0.96 ]\n"
     ]
    },
    {
     "name": "stderr",
     "output_type": "stream",
     "text": [
      "100%|██████████| 5/5 [00:36<00:00,  7.32s/it]\n"
     ]
    },
    {
     "name": "stdout",
     "output_type": "stream",
     "text": [
      "[0.961 0.962 0.963 0.964 0.965]\n"
     ]
    },
    {
     "name": "stderr",
     "output_type": "stream",
     "text": [
      "100%|██████████| 5/5 [00:37<00:00,  7.55s/it]\n"
     ]
    },
    {
     "name": "stdout",
     "output_type": "stream",
     "text": [
      "[0.966 0.967 0.968 0.969 0.97 ]\n"
     ]
    },
    {
     "name": "stderr",
     "output_type": "stream",
     "text": [
      "100%|██████████| 5/5 [00:29<00:00,  5.88s/it]\n"
     ]
    },
    {
     "name": "stdout",
     "output_type": "stream",
     "text": [
      "[0.971 0.972 0.973 0.974 0.975]\n"
     ]
    },
    {
     "name": "stderr",
     "output_type": "stream",
     "text": [
      "100%|██████████| 5/5 [00:34<00:00,  6.95s/it]\n"
     ]
    },
    {
     "name": "stdout",
     "output_type": "stream",
     "text": [
      "[0.976 0.977 0.978 0.979 0.98 ]\n"
     ]
    },
    {
     "name": "stderr",
     "output_type": "stream",
     "text": [
      "100%|██████████| 5/5 [00:34<00:00,  6.91s/it]\n"
     ]
    },
    {
     "name": "stdout",
     "output_type": "stream",
     "text": [
      "[0.981 0.982 0.983 0.984 0.985]\n"
     ]
    },
    {
     "name": "stderr",
     "output_type": "stream",
     "text": [
      "100%|██████████| 5/5 [00:22<00:00,  4.50s/it]\n"
     ]
    },
    {
     "name": "stdout",
     "output_type": "stream",
     "text": [
      "[0.986 0.987 0.988 0.989 0.99 ]\n"
     ]
    },
    {
     "name": "stderr",
     "output_type": "stream",
     "text": [
      "100%|██████████| 5/5 [00:39<00:00,  7.85s/it]\n"
     ]
    },
    {
     "name": "stdout",
     "output_type": "stream",
     "text": [
      "[0.991 0.992 0.993 0.994 0.995]\n"
     ]
    },
    {
     "name": "stderr",
     "output_type": "stream",
     "text": [
      "100%|██████████| 5/5 [00:50<00:00, 10.11s/it]\n"
     ]
    },
    {
     "name": "stdout",
     "output_type": "stream",
     "text": [
      "[0.996 0.997 0.998 0.999 1.   ]\n"
     ]
    },
    {
     "name": "stderr",
     "output_type": "stream",
     "text": [
      "100%|██████████| 5/5 [00:30<00:00,  6.17s/it]\n"
     ]
    }
   ],
   "source": [
    "for temp in tempsplit[112:]:\n",
    "    print(temp)\n",
    "    df_continue = get_description_df(param_list=temp, top_p=1)\n",
    "    temp_name = str(np.round(temp[-1], decimals=3))\n",
    "    df_continue.to_pickle('data/temp_data_4v/df_'+temp_name+'.pkl')"
   ]
  },
  {
   "cell_type": "code",
   "execution_count": 60,
   "metadata": {},
   "outputs": [],
   "source": [
    "cleandf_minigpt = pd.read_pickle(\"data/clean_minigpt.pkl\")"
   ]
  },
  {
   "cell_type": "code",
   "execution_count": 61,
   "metadata": {},
   "outputs": [],
   "source": [
    "random_minigpt = cleandf_minigpt.sample(3, random_state=42)"
   ]
  },
  {
   "cell_type": "code",
   "execution_count": 62,
   "metadata": {},
   "outputs": [
    {
     "data": {
      "text/html": [
       "<div>\n",
       "<style scoped>\n",
       "    .dataframe tbody tr th:only-of-type {\n",
       "        vertical-align: middle;\n",
       "    }\n",
       "\n",
       "    .dataframe tbody tr th {\n",
       "        vertical-align: top;\n",
       "    }\n",
       "\n",
       "    .dataframe thead th {\n",
       "        text-align: right;\n",
       "    }\n",
       "</style>\n",
       "<table border=\"1\" class=\"dataframe\">\n",
       "  <thead>\n",
       "    <tr style=\"text-align: right;\">\n",
       "      <th></th>\n",
       "      <th>iteration</th>\n",
       "      <th>num_beam</th>\n",
       "      <th>temperature</th>\n",
       "      <th>top_p</th>\n",
       "      <th>description</th>\n",
       "      <th>id</th>\n",
       "      <th>model</th>\n",
       "      <th>words</th>\n",
       "      <th>surps</th>\n",
       "      <th>uid</th>\n",
       "      <th>avg_info</th>\n",
       "      <th>ttr</th>\n",
       "      <th>avg_freq</th>\n",
       "    </tr>\n",
       "  </thead>\n",
       "  <tbody>\n",
       "    <tr>\n",
       "      <th>1574</th>\n",
       "      <td>0</td>\n",
       "      <td>1</td>\n",
       "      <td>1.0</td>\n",
       "      <td>0.682</td>\n",
       "      <td>The image shows a woman and two children in a ...</td>\n",
       "      <td>681</td>\n",
       "      <td>MiniGPT-4</td>\n",
       "      <td>[The, Ġimage, Ġshows, Ġa, Ġwoman, Ġand, Ġtwo, ...</td>\n",
       "      <td>[3.276172161102295, 7.5474724769592285, 4.2324...</td>\n",
       "      <td>3.326710</td>\n",
       "      <td>2.377067</td>\n",
       "      <td>0.520000</td>\n",
       "      <td>6.246933</td>\n",
       "    </tr>\n",
       "    <tr>\n",
       "      <th>1720</th>\n",
       "      <td>0</td>\n",
       "      <td>1</td>\n",
       "      <td>1.0</td>\n",
       "      <td>0.844</td>\n",
       "      <td>This image depicts a woman and two children st...</td>\n",
       "      <td>843</td>\n",
       "      <td>MiniGPT-4</td>\n",
       "      <td>[This, Ġimage, Ġdepicts, Ġa, Ġwoman, Ġand, Ġtw...</td>\n",
       "      <td>[4.856124401092529, 5.75446891784668, 5.188001...</td>\n",
       "      <td>4.032907</td>\n",
       "      <td>2.577611</td>\n",
       "      <td>0.622222</td>\n",
       "      <td>6.045778</td>\n",
       "    </tr>\n",
       "    <tr>\n",
       "      <th>1510</th>\n",
       "      <td>0</td>\n",
       "      <td>1</td>\n",
       "      <td>1.0</td>\n",
       "      <td>0.612</td>\n",
       "      <td>In this image, there is a woman standing in a ...</td>\n",
       "      <td>611</td>\n",
       "      <td>MiniGPT-4</td>\n",
       "      <td>[In, Ġthis, Ġimage, ,, Ġthere, Ġis, Ġa, Ġwoman...</td>\n",
       "      <td>[4.456691265106201, 2.3173508644104004, 5.3269...</td>\n",
       "      <td>4.331714</td>\n",
       "      <td>2.494707</td>\n",
       "      <td>0.485294</td>\n",
       "      <td>6.225735</td>\n",
       "    </tr>\n",
       "  </tbody>\n",
       "</table>\n",
       "</div>"
      ],
      "text/plain": [
       "      iteration  num_beam  temperature  top_p  \\\n",
       "1574          0         1          1.0  0.682   \n",
       "1720          0         1          1.0  0.844   \n",
       "1510          0         1          1.0  0.612   \n",
       "\n",
       "                                            description   id      model  \\\n",
       "1574  The image shows a woman and two children in a ...  681  MiniGPT-4   \n",
       "1720  This image depicts a woman and two children st...  843  MiniGPT-4   \n",
       "1510  In this image, there is a woman standing in a ...  611  MiniGPT-4   \n",
       "\n",
       "                                                  words  \\\n",
       "1574  [The, Ġimage, Ġshows, Ġa, Ġwoman, Ġand, Ġtwo, ...   \n",
       "1720  [This, Ġimage, Ġdepicts, Ġa, Ġwoman, Ġand, Ġtw...   \n",
       "1510  [In, Ġthis, Ġimage, ,, Ġthere, Ġis, Ġa, Ġwoman...   \n",
       "\n",
       "                                                  surps       uid  avg_info  \\\n",
       "1574  [3.276172161102295, 7.5474724769592285, 4.2324...  3.326710  2.377067   \n",
       "1720  [4.856124401092529, 5.75446891784668, 5.188001...  4.032907  2.577611   \n",
       "1510  [4.456691265106201, 2.3173508644104004, 5.3269...  4.331714  2.494707   \n",
       "\n",
       "           ttr  avg_freq  \n",
       "1574  0.520000  6.246933  \n",
       "1720  0.622222  6.045778  \n",
       "1510  0.485294  6.225735  "
      ]
     },
     "execution_count": 62,
     "metadata": {},
     "output_type": "execute_result"
    }
   ],
   "source": [
    "random_minigpt"
   ]
  },
  {
   "cell_type": "code",
   "execution_count": 59,
   "metadata": {},
   "outputs": [],
   "source": [
    "def generate_score(text):\n",
    "    response = openai.ChatCompletion.create(\n",
    "        model=\"gpt-4\",\n",
    "        messages=[\n",
    "        {\n",
    "            \"role\": \"user\",\n",
    "            \"content\": [\n",
    "            {\n",
    "                \"type\": \"text\", \n",
    "                \"text\": \"Evaluate the overall level of interestingness of this text, which is a description of a picture. Rate your evaluation from the scale of 1 to 10, with 1 being the least interesting. If there is no input text, please return your evaluation as NaN. The output should be either be a numerical value, or NaN.\"\n",
    "            },\n",
    "            {\n",
    "                \"type\": \"text\", \n",
    "                \"text\": text\n",
    "            }\n",
    "            ],\n",
    "        }\n",
    "        ],\n",
    "    )\n",
    "\n",
    "    # data = {\"description\": text,\n",
    "    #         \"eval\": response.choices[0][\"message\"][\"content\"]}\n",
    "    # df = pd.DataFrame(data)\n",
    "\n",
    "    score = response.choices[0][\"message\"][\"content\"]\n",
    "\n",
    "    return score\n"
   ]
  },
  {
   "cell_type": "code",
   "execution_count": 65,
   "metadata": {},
   "outputs": [
    {
     "data": {
      "text/html": [
       "<div>\n",
       "<style scoped>\n",
       "    .dataframe tbody tr th:only-of-type {\n",
       "        vertical-align: middle;\n",
       "    }\n",
       "\n",
       "    .dataframe tbody tr th {\n",
       "        vertical-align: top;\n",
       "    }\n",
       "\n",
       "    .dataframe thead th {\n",
       "        text-align: right;\n",
       "    }\n",
       "</style>\n",
       "<table border=\"1\" class=\"dataframe\">\n",
       "  <thead>\n",
       "    <tr style=\"text-align: right;\">\n",
       "      <th></th>\n",
       "      <th>iteration</th>\n",
       "      <th>num_beam</th>\n",
       "      <th>temperature</th>\n",
       "      <th>top_p</th>\n",
       "      <th>description</th>\n",
       "      <th>id</th>\n",
       "      <th>model</th>\n",
       "      <th>words</th>\n",
       "      <th>surps</th>\n",
       "      <th>uid</th>\n",
       "      <th>avg_info</th>\n",
       "      <th>ttr</th>\n",
       "      <th>avg_freq</th>\n",
       "      <th>score</th>\n",
       "    </tr>\n",
       "  </thead>\n",
       "  <tbody>\n",
       "    <tr>\n",
       "      <th>1574</th>\n",
       "      <td>0</td>\n",
       "      <td>1</td>\n",
       "      <td>1.0</td>\n",
       "      <td>0.682</td>\n",
       "      <td>The image shows a woman and two children in a ...</td>\n",
       "      <td>681</td>\n",
       "      <td>MiniGPT-4</td>\n",
       "      <td>[The, Ġimage, Ġshows, Ġa, Ġwoman, Ġand, Ġtwo, ...</td>\n",
       "      <td>[3.276172161102295, 7.5474724769592285, 4.2324...</td>\n",
       "      <td>3.326710</td>\n",
       "      <td>2.377067</td>\n",
       "      <td>0.520000</td>\n",
       "      <td>6.246933</td>\n",
       "      <td>5.7</td>\n",
       "    </tr>\n",
       "    <tr>\n",
       "      <th>1720</th>\n",
       "      <td>0</td>\n",
       "      <td>1</td>\n",
       "      <td>1.0</td>\n",
       "      <td>0.844</td>\n",
       "      <td>This image depicts a woman and two children st...</td>\n",
       "      <td>843</td>\n",
       "      <td>MiniGPT-4</td>\n",
       "      <td>[This, Ġimage, Ġdepicts, Ġa, Ġwoman, Ġand, Ġtw...</td>\n",
       "      <td>[4.856124401092529, 5.75446891784668, 5.188001...</td>\n",
       "      <td>4.032907</td>\n",
       "      <td>2.577611</td>\n",
       "      <td>0.622222</td>\n",
       "      <td>6.045778</td>\n",
       "      <td>6</td>\n",
       "    </tr>\n",
       "    <tr>\n",
       "      <th>1510</th>\n",
       "      <td>0</td>\n",
       "      <td>1</td>\n",
       "      <td>1.0</td>\n",
       "      <td>0.612</td>\n",
       "      <td>In this image, there is a woman standing in a ...</td>\n",
       "      <td>611</td>\n",
       "      <td>MiniGPT-4</td>\n",
       "      <td>[In, Ġthis, Ġimage, ,, Ġthere, Ġis, Ġa, Ġwoman...</td>\n",
       "      <td>[4.456691265106201, 2.3173508644104004, 5.3269...</td>\n",
       "      <td>4.331714</td>\n",
       "      <td>2.494707</td>\n",
       "      <td>0.485294</td>\n",
       "      <td>6.225735</td>\n",
       "      <td>5.5</td>\n",
       "    </tr>\n",
       "  </tbody>\n",
       "</table>\n",
       "</div>"
      ],
      "text/plain": [
       "      iteration  num_beam  temperature  top_p  \\\n",
       "1574          0         1          1.0  0.682   \n",
       "1720          0         1          1.0  0.844   \n",
       "1510          0         1          1.0  0.612   \n",
       "\n",
       "                                            description   id      model  \\\n",
       "1574  The image shows a woman and two children in a ...  681  MiniGPT-4   \n",
       "1720  This image depicts a woman and two children st...  843  MiniGPT-4   \n",
       "1510  In this image, there is a woman standing in a ...  611  MiniGPT-4   \n",
       "\n",
       "                                                  words  \\\n",
       "1574  [The, Ġimage, Ġshows, Ġa, Ġwoman, Ġand, Ġtwo, ...   \n",
       "1720  [This, Ġimage, Ġdepicts, Ġa, Ġwoman, Ġand, Ġtw...   \n",
       "1510  [In, Ġthis, Ġimage, ,, Ġthere, Ġis, Ġa, Ġwoman...   \n",
       "\n",
       "                                                  surps       uid  avg_info  \\\n",
       "1574  [3.276172161102295, 7.5474724769592285, 4.2324...  3.326710  2.377067   \n",
       "1720  [4.856124401092529, 5.75446891784668, 5.188001...  4.032907  2.577611   \n",
       "1510  [4.456691265106201, 2.3173508644104004, 5.3269...  4.331714  2.494707   \n",
       "\n",
       "           ttr  avg_freq score  \n",
       "1574  0.520000  6.246933   5.7  \n",
       "1720  0.622222  6.045778     6  \n",
       "1510  0.485294  6.225735   5.5  "
      ]
     },
     "execution_count": 65,
     "metadata": {},
     "output_type": "execute_result"
    }
   ],
   "source": [
    "random_minigpt['score'] = random_minigpt['description'].apply(generate_score)\n",
    "random_minigpt"
   ]
  },
  {
   "cell_type": "code",
   "execution_count": 66,
   "metadata": {},
   "outputs": [],
   "source": [
    "cleandf_minigpt['score'] = cleandf_minigpt['description'].apply(generate_score)"
   ]
  },
  {
   "cell_type": "code",
   "execution_count": 67,
   "metadata": {},
   "outputs": [
    {
     "data": {
      "text/html": [
       "<div>\n",
       "<style scoped>\n",
       "    .dataframe tbody tr th:only-of-type {\n",
       "        vertical-align: middle;\n",
       "    }\n",
       "\n",
       "    .dataframe tbody tr th {\n",
       "        vertical-align: top;\n",
       "    }\n",
       "\n",
       "    .dataframe thead th {\n",
       "        text-align: right;\n",
       "    }\n",
       "</style>\n",
       "<table border=\"1\" class=\"dataframe\">\n",
       "  <thead>\n",
       "    <tr style=\"text-align: right;\">\n",
       "      <th></th>\n",
       "      <th>iteration</th>\n",
       "      <th>num_beam</th>\n",
       "      <th>temperature</th>\n",
       "      <th>top_p</th>\n",
       "      <th>description</th>\n",
       "      <th>id</th>\n",
       "      <th>model</th>\n",
       "      <th>words</th>\n",
       "      <th>surps</th>\n",
       "      <th>uid</th>\n",
       "      <th>avg_info</th>\n",
       "      <th>ttr</th>\n",
       "      <th>avg_freq</th>\n",
       "      <th>score</th>\n",
       "    </tr>\n",
       "  </thead>\n",
       "  <tbody>\n",
       "    <tr>\n",
       "      <th>0</th>\n",
       "      <td>0</td>\n",
       "      <td>1</td>\n",
       "      <td>0.010</td>\n",
       "      <td>0.900</td>\n",
       "      <td>The image shows a woman and two children stand...</td>\n",
       "      <td>1</td>\n",
       "      <td>MiniGPT-4</td>\n",
       "      <td>[The, Ġimage, Ġshows, Ġa, Ġwoman, Ġand, Ġtwo, ...</td>\n",
       "      <td>[3.276172161102295, 7.5474724769592285, 4.2324...</td>\n",
       "      <td>3.748849</td>\n",
       "      <td>2.408837</td>\n",
       "      <td>0.528736</td>\n",
       "      <td>6.105172</td>\n",
       "      <td>5.8</td>\n",
       "    </tr>\n",
       "    <tr>\n",
       "      <th>1</th>\n",
       "      <td>0</td>\n",
       "      <td>1</td>\n",
       "      <td>0.012</td>\n",
       "      <td>0.900</td>\n",
       "      <td>The image shows a woman and two children stand...</td>\n",
       "      <td>2</td>\n",
       "      <td>MiniGPT-4</td>\n",
       "      <td>[The, Ġimage, Ġshows, Ġa, Ġwoman, Ġand, Ġtwo, ...</td>\n",
       "      <td>[3.276172161102295, 7.5474724769592285, 4.2324...</td>\n",
       "      <td>3.841741</td>\n",
       "      <td>2.414539</td>\n",
       "      <td>0.552632</td>\n",
       "      <td>5.970526</td>\n",
       "      <td>5.5</td>\n",
       "    </tr>\n",
       "    <tr>\n",
       "      <th>2</th>\n",
       "      <td>0</td>\n",
       "      <td>1</td>\n",
       "      <td>0.014</td>\n",
       "      <td>0.900</td>\n",
       "      <td>The image shows a woman and two children stand...</td>\n",
       "      <td>3</td>\n",
       "      <td>MiniGPT-4</td>\n",
       "      <td>[The, Ġimage, Ġshows, Ġa, Ġwoman, Ġand, Ġtwo, ...</td>\n",
       "      <td>[3.276172161102295, 7.5474724769592285, 4.2324...</td>\n",
       "      <td>4.657914</td>\n",
       "      <td>2.355983</td>\n",
       "      <td>0.455556</td>\n",
       "      <td>6.124889</td>\n",
       "      <td>4.5</td>\n",
       "    </tr>\n",
       "    <tr>\n",
       "      <th>3</th>\n",
       "      <td>0</td>\n",
       "      <td>1</td>\n",
       "      <td>0.016</td>\n",
       "      <td>0.900</td>\n",
       "      <td>The image shows a woman and two children stand...</td>\n",
       "      <td>4</td>\n",
       "      <td>MiniGPT-4</td>\n",
       "      <td>[The, Ġimage, Ġshows, Ġa, Ġwoman, Ġand, Ġtwo, ...</td>\n",
       "      <td>[3.276172161102295, 7.5474724769592285, 4.2324...</td>\n",
       "      <td>4.657914</td>\n",
       "      <td>2.355983</td>\n",
       "      <td>0.455556</td>\n",
       "      <td>6.124889</td>\n",
       "      <td>4.5</td>\n",
       "    </tr>\n",
       "    <tr>\n",
       "      <th>4</th>\n",
       "      <td>0</td>\n",
       "      <td>1</td>\n",
       "      <td>0.018</td>\n",
       "      <td>0.900</td>\n",
       "      <td>The image shows a woman and two children stand...</td>\n",
       "      <td>5</td>\n",
       "      <td>MiniGPT-4</td>\n",
       "      <td>[The, Ġimage, Ġshows, Ġa, Ġwoman, Ġand, Ġtwo, ...</td>\n",
       "      <td>[3.276172161102295, 7.5474724769592285, 4.2324...</td>\n",
       "      <td>4.657914</td>\n",
       "      <td>2.355983</td>\n",
       "      <td>0.455556</td>\n",
       "      <td>6.124889</td>\n",
       "      <td>4.8</td>\n",
       "    </tr>\n",
       "    <tr>\n",
       "      <th>...</th>\n",
       "      <td>...</td>\n",
       "      <td>...</td>\n",
       "      <td>...</td>\n",
       "      <td>...</td>\n",
       "      <td>...</td>\n",
       "      <td>...</td>\n",
       "      <td>...</td>\n",
       "      <td>...</td>\n",
       "      <td>...</td>\n",
       "      <td>...</td>\n",
       "      <td>...</td>\n",
       "      <td>...</td>\n",
       "      <td>...</td>\n",
       "      <td>...</td>\n",
       "    </tr>\n",
       "    <tr>\n",
       "      <th>1842</th>\n",
       "      <td>0</td>\n",
       "      <td>1</td>\n",
       "      <td>1.000</td>\n",
       "      <td>0.987</td>\n",
       "      <td>In this black and white picture, there is a ma...</td>\n",
       "      <td>986</td>\n",
       "      <td>MiniGPT-4</td>\n",
       "      <td>[In, Ġthis, Ġblack, Ġand, Ġwhite, Ġpicture, ,,...</td>\n",
       "      <td>[4.456691265106201, 2.3173508644104004, 9.1033...</td>\n",
       "      <td>4.040512</td>\n",
       "      <td>2.361031</td>\n",
       "      <td>0.500000</td>\n",
       "      <td>6.216308</td>\n",
       "      <td>6.2</td>\n",
       "    </tr>\n",
       "    <tr>\n",
       "      <th>1843</th>\n",
       "      <td>0</td>\n",
       "      <td>1</td>\n",
       "      <td>1.000</td>\n",
       "      <td>0.991</td>\n",
       "      <td>In this image, there is a woman standing in th...</td>\n",
       "      <td>990</td>\n",
       "      <td>MiniGPT-4</td>\n",
       "      <td>[In, Ġthis, Ġimage, ,, Ġthere, Ġis, Ġa, Ġwoman...</td>\n",
       "      <td>[4.456691265106201, 2.3173508644104004, 5.3269...</td>\n",
       "      <td>4.147193</td>\n",
       "      <td>2.482595</td>\n",
       "      <td>0.533333</td>\n",
       "      <td>6.202133</td>\n",
       "      <td>5.7</td>\n",
       "    </tr>\n",
       "    <tr>\n",
       "      <th>1844</th>\n",
       "      <td>0</td>\n",
       "      <td>1</td>\n",
       "      <td>1.000</td>\n",
       "      <td>0.993</td>\n",
       "      <td>The image shows a group of people, including a...</td>\n",
       "      <td>992</td>\n",
       "      <td>MiniGPT-4</td>\n",
       "      <td>[The, Ġimage, Ġshows, Ġa, Ġgroup, Ġof, Ġpeople...</td>\n",
       "      <td>[3.276172161102295, 7.5474724769592285, 4.2324...</td>\n",
       "      <td>4.585183</td>\n",
       "      <td>2.490274</td>\n",
       "      <td>0.541176</td>\n",
       "      <td>6.123412</td>\n",
       "      <td>5.5</td>\n",
       "    </tr>\n",
       "    <tr>\n",
       "      <th>1845</th>\n",
       "      <td>0</td>\n",
       "      <td>1</td>\n",
       "      <td>1.000</td>\n",
       "      <td>0.994</td>\n",
       "      <td>This image shows a woman standing in a kitchen...</td>\n",
       "      <td>993</td>\n",
       "      <td>MiniGPT-4</td>\n",
       "      <td>[This, Ġimage, Ġshows, Ġa, Ġwoman, Ġstanding, ...</td>\n",
       "      <td>[4.856124401092529, 5.75446891784668, 1.815931...</td>\n",
       "      <td>3.937921</td>\n",
       "      <td>2.646942</td>\n",
       "      <td>0.705882</td>\n",
       "      <td>6.252059</td>\n",
       "      <td>6.5</td>\n",
       "    </tr>\n",
       "    <tr>\n",
       "      <th>1846</th>\n",
       "      <td>0</td>\n",
       "      <td>1</td>\n",
       "      <td>1.000</td>\n",
       "      <td>0.997</td>\n",
       "      <td>There is a woman, a man, and a child in the pi...</td>\n",
       "      <td>996</td>\n",
       "      <td>MiniGPT-4</td>\n",
       "      <td>[There, Ġis, Ġa, Ġwoman, ,, Ġa, Ġman, ,, Ġand,...</td>\n",
       "      <td>[5.558810710906982, 1.6791528463363647, 1.2591...</td>\n",
       "      <td>4.242570</td>\n",
       "      <td>2.296197</td>\n",
       "      <td>0.512821</td>\n",
       "      <td>6.145385</td>\n",
       "      <td>5.5</td>\n",
       "    </tr>\n",
       "  </tbody>\n",
       "</table>\n",
       "<p>1847 rows × 14 columns</p>\n",
       "</div>"
      ],
      "text/plain": [
       "      iteration  num_beam  temperature  top_p  \\\n",
       "0             0         1        0.010  0.900   \n",
       "1             0         1        0.012  0.900   \n",
       "2             0         1        0.014  0.900   \n",
       "3             0         1        0.016  0.900   \n",
       "4             0         1        0.018  0.900   \n",
       "...         ...       ...          ...    ...   \n",
       "1842          0         1        1.000  0.987   \n",
       "1843          0         1        1.000  0.991   \n",
       "1844          0         1        1.000  0.993   \n",
       "1845          0         1        1.000  0.994   \n",
       "1846          0         1        1.000  0.997   \n",
       "\n",
       "                                            description   id      model  \\\n",
       "0     The image shows a woman and two children stand...    1  MiniGPT-4   \n",
       "1     The image shows a woman and two children stand...    2  MiniGPT-4   \n",
       "2     The image shows a woman and two children stand...    3  MiniGPT-4   \n",
       "3     The image shows a woman and two children stand...    4  MiniGPT-4   \n",
       "4     The image shows a woman and two children stand...    5  MiniGPT-4   \n",
       "...                                                 ...  ...        ...   \n",
       "1842  In this black and white picture, there is a ma...  986  MiniGPT-4   \n",
       "1843  In this image, there is a woman standing in th...  990  MiniGPT-4   \n",
       "1844  The image shows a group of people, including a...  992  MiniGPT-4   \n",
       "1845  This image shows a woman standing in a kitchen...  993  MiniGPT-4   \n",
       "1846  There is a woman, a man, and a child in the pi...  996  MiniGPT-4   \n",
       "\n",
       "                                                  words  \\\n",
       "0     [The, Ġimage, Ġshows, Ġa, Ġwoman, Ġand, Ġtwo, ...   \n",
       "1     [The, Ġimage, Ġshows, Ġa, Ġwoman, Ġand, Ġtwo, ...   \n",
       "2     [The, Ġimage, Ġshows, Ġa, Ġwoman, Ġand, Ġtwo, ...   \n",
       "3     [The, Ġimage, Ġshows, Ġa, Ġwoman, Ġand, Ġtwo, ...   \n",
       "4     [The, Ġimage, Ġshows, Ġa, Ġwoman, Ġand, Ġtwo, ...   \n",
       "...                                                 ...   \n",
       "1842  [In, Ġthis, Ġblack, Ġand, Ġwhite, Ġpicture, ,,...   \n",
       "1843  [In, Ġthis, Ġimage, ,, Ġthere, Ġis, Ġa, Ġwoman...   \n",
       "1844  [The, Ġimage, Ġshows, Ġa, Ġgroup, Ġof, Ġpeople...   \n",
       "1845  [This, Ġimage, Ġshows, Ġa, Ġwoman, Ġstanding, ...   \n",
       "1846  [There, Ġis, Ġa, Ġwoman, ,, Ġa, Ġman, ,, Ġand,...   \n",
       "\n",
       "                                                  surps       uid  avg_info  \\\n",
       "0     [3.276172161102295, 7.5474724769592285, 4.2324...  3.748849  2.408837   \n",
       "1     [3.276172161102295, 7.5474724769592285, 4.2324...  3.841741  2.414539   \n",
       "2     [3.276172161102295, 7.5474724769592285, 4.2324...  4.657914  2.355983   \n",
       "3     [3.276172161102295, 7.5474724769592285, 4.2324...  4.657914  2.355983   \n",
       "4     [3.276172161102295, 7.5474724769592285, 4.2324...  4.657914  2.355983   \n",
       "...                                                 ...       ...       ...   \n",
       "1842  [4.456691265106201, 2.3173508644104004, 9.1033...  4.040512  2.361031   \n",
       "1843  [4.456691265106201, 2.3173508644104004, 5.3269...  4.147193  2.482595   \n",
       "1844  [3.276172161102295, 7.5474724769592285, 4.2324...  4.585183  2.490274   \n",
       "1845  [4.856124401092529, 5.75446891784668, 1.815931...  3.937921  2.646942   \n",
       "1846  [5.558810710906982, 1.6791528463363647, 1.2591...  4.242570  2.296197   \n",
       "\n",
       "           ttr  avg_freq score  \n",
       "0     0.528736  6.105172   5.8  \n",
       "1     0.552632  5.970526   5.5  \n",
       "2     0.455556  6.124889   4.5  \n",
       "3     0.455556  6.124889   4.5  \n",
       "4     0.455556  6.124889   4.8  \n",
       "...        ...       ...   ...  \n",
       "1842  0.500000  6.216308   6.2  \n",
       "1843  0.533333  6.202133   5.7  \n",
       "1844  0.541176  6.123412   5.5  \n",
       "1845  0.705882  6.252059   6.5  \n",
       "1846  0.512821  6.145385   5.5  \n",
       "\n",
       "[1847 rows x 14 columns]"
      ]
     },
     "execution_count": 67,
     "metadata": {},
     "output_type": "execute_result"
    }
   ],
   "source": [
    "cleandf_minigpt"
   ]
  },
  {
   "cell_type": "code",
   "execution_count": 54,
   "metadata": {},
   "outputs": [],
   "source": [
    "# random_minigpt['score'] = random_minigpt['description'].apply(generate_score)"
   ]
  },
  {
   "cell_type": "code",
   "execution_count": 55,
   "metadata": {},
   "outputs": [
    {
     "data": {
      "text/html": [
       "<div>\n",
       "<style scoped>\n",
       "    .dataframe tbody tr th:only-of-type {\n",
       "        vertical-align: middle;\n",
       "    }\n",
       "\n",
       "    .dataframe tbody tr th {\n",
       "        vertical-align: top;\n",
       "    }\n",
       "\n",
       "    .dataframe thead th {\n",
       "        text-align: right;\n",
       "    }\n",
       "</style>\n",
       "<table border=\"1\" class=\"dataframe\">\n",
       "  <thead>\n",
       "    <tr style=\"text-align: right;\">\n",
       "      <th></th>\n",
       "      <th>iteration</th>\n",
       "      <th>num_beam</th>\n",
       "      <th>temperature</th>\n",
       "      <th>top_p</th>\n",
       "      <th>description</th>\n",
       "      <th>id</th>\n",
       "      <th>model</th>\n",
       "      <th>words</th>\n",
       "      <th>surps</th>\n",
       "      <th>uid</th>\n",
       "      <th>avg_info</th>\n",
       "      <th>ttr</th>\n",
       "      <th>avg_freq</th>\n",
       "      <th>score</th>\n",
       "    </tr>\n",
       "  </thead>\n",
       "  <tbody>\n",
       "    <tr>\n",
       "      <th>1574</th>\n",
       "      <td>0</td>\n",
       "      <td>1</td>\n",
       "      <td>1.0</td>\n",
       "      <td>0.682</td>\n",
       "      <td>The image shows a woman and two children in a ...</td>\n",
       "      <td>681</td>\n",
       "      <td>MiniGPT-4</td>\n",
       "      <td>[The, Ġimage, Ġshows, Ġa, Ġwoman, Ġand, Ġtwo, ...</td>\n",
       "      <td>[3.276172161102295, 7.5474724769592285, 4.2324...</td>\n",
       "      <td>3.326710</td>\n",
       "      <td>2.377067</td>\n",
       "      <td>0.520000</td>\n",
       "      <td>6.246933</td>\n",
       "      <td>5</td>\n",
       "    </tr>\n",
       "    <tr>\n",
       "      <th>1720</th>\n",
       "      <td>0</td>\n",
       "      <td>1</td>\n",
       "      <td>1.0</td>\n",
       "      <td>0.844</td>\n",
       "      <td>This image depicts a woman and two children st...</td>\n",
       "      <td>843</td>\n",
       "      <td>MiniGPT-4</td>\n",
       "      <td>[This, Ġimage, Ġdepicts, Ġa, Ġwoman, Ġand, Ġtw...</td>\n",
       "      <td>[4.856124401092529, 5.75446891784668, 5.188001...</td>\n",
       "      <td>4.032907</td>\n",
       "      <td>2.577611</td>\n",
       "      <td>0.622222</td>\n",
       "      <td>6.045778</td>\n",
       "      <td>5</td>\n",
       "    </tr>\n",
       "    <tr>\n",
       "      <th>1510</th>\n",
       "      <td>0</td>\n",
       "      <td>1</td>\n",
       "      <td>1.0</td>\n",
       "      <td>0.612</td>\n",
       "      <td>In this image, there is a woman standing in a ...</td>\n",
       "      <td>611</td>\n",
       "      <td>MiniGPT-4</td>\n",
       "      <td>[In, Ġthis, Ġimage, ,, Ġthere, Ġis, Ġa, Ġwoman...</td>\n",
       "      <td>[4.456691265106201, 2.3173508644104004, 5.3269...</td>\n",
       "      <td>4.331714</td>\n",
       "      <td>2.494707</td>\n",
       "      <td>0.485294</td>\n",
       "      <td>6.225735</td>\n",
       "      <td>5</td>\n",
       "    </tr>\n",
       "  </tbody>\n",
       "</table>\n",
       "</div>"
      ],
      "text/plain": [
       "      iteration  num_beam  temperature  top_p  \\\n",
       "1574          0         1          1.0  0.682   \n",
       "1720          0         1          1.0  0.844   \n",
       "1510          0         1          1.0  0.612   \n",
       "\n",
       "                                            description   id      model  \\\n",
       "1574  The image shows a woman and two children in a ...  681  MiniGPT-4   \n",
       "1720  This image depicts a woman and two children st...  843  MiniGPT-4   \n",
       "1510  In this image, there is a woman standing in a ...  611  MiniGPT-4   \n",
       "\n",
       "                                                  words  \\\n",
       "1574  [The, Ġimage, Ġshows, Ġa, Ġwoman, Ġand, Ġtwo, ...   \n",
       "1720  [This, Ġimage, Ġdepicts, Ġa, Ġwoman, Ġand, Ġtw...   \n",
       "1510  [In, Ġthis, Ġimage, ,, Ġthere, Ġis, Ġa, Ġwoman...   \n",
       "\n",
       "                                                  surps       uid  avg_info  \\\n",
       "1574  [3.276172161102295, 7.5474724769592285, 4.2324...  3.326710  2.377067   \n",
       "1720  [4.856124401092529, 5.75446891784668, 5.188001...  4.032907  2.577611   \n",
       "1510  [4.456691265106201, 2.3173508644104004, 5.3269...  4.331714  2.494707   \n",
       "\n",
       "           ttr  avg_freq score  \n",
       "1574  0.520000  6.246933     5  \n",
       "1720  0.622222  6.045778     5  \n",
       "1510  0.485294  6.225735     5  "
      ]
     },
     "execution_count": 55,
     "metadata": {},
     "output_type": "execute_result"
    }
   ],
   "source": [
    "# random_minigpt"
   ]
  },
  {
   "cell_type": "code",
   "execution_count": 69,
   "metadata": {},
   "outputs": [],
   "source": [
    "cleandf_minigpt.to_pickle(\"data/random_minigpt.pkl\")"
   ]
  },
  {
   "cell_type": "code",
   "execution_count": null,
   "metadata": {},
   "outputs": [],
   "source": []
  }
 ],
 "metadata": {
  "kernelspec": {
   "display_name": "Python 3 (ipykernel)",
   "language": "python",
   "name": "python3"
  },
  "language_info": {
   "codemirror_mode": {
    "name": "ipython",
    "version": 3
   },
   "file_extension": ".py",
   "mimetype": "text/x-python",
   "name": "python",
   "nbconvert_exporter": "python",
   "pygments_lexer": "ipython3",
   "version": "3.12.0"
  }
 },
 "nbformat": 4,
 "nbformat_minor": 5
}
