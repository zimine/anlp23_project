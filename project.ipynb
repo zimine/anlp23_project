{
 "cells": [
  {
   "cell_type": "code",
   "execution_count": 145,
   "metadata": {},
   "outputs": [],
   "source": [
    "from surprisal import AutoHuggingFaceModel\n",
    "from collections import Counter\n",
    "from wordfreq import word_frequency\n",
    "from wordfreq import zipf_frequency\n",
    "from scipy import stats\n",
    "\n",
    "import pandas as pd\n",
    "import numpy as np\n",
    "import seaborn as sns\n",
    "import matplotlib.pyplot as plt\n",
    "import warnings\n",
    "import os\n",
    "import replicate\n",
    "import tqdm\n",
    "from tqdm import tqdm\n",
    "import time\n",
    "import string\n",
    "\n",
    "\n",
    "warnings.filterwarnings('ignore')"
   ]
  },
  {
   "cell_type": "code",
   "execution_count": 146,
   "metadata": {},
   "outputs": [
    {
     "name": "stdout",
     "output_type": "stream",
     "text": [
      "README.md            gpt4v_temp_1125.pkl  project.ipynb\n",
      "\u001b[34mdata\u001b[m\u001b[m/                output.png\n",
      "eval.ipynb           \u001b[34mplot\u001b[m\u001b[m/\n"
     ]
    }
   ],
   "source": [
    "ls "
   ]
  },
  {
   "cell_type": "markdown",
   "metadata": {},
   "source": [
    "# Replicate API\n",
    "\n",
    "Minigpt-4 is hosted on [replicate](https://replicate.com/daanelson/minigpt-4/versions/b96a2f33cc8e4b0aa23eacfce731b9c41a7d9466d9ed4e167375587b54db9423), with an API available for deployment.\n",
    "\n",
    "| Parameter          | Interpretation                                                                                                                        | Default | Min  | Max |\n",
    "|--------------------|---------------------------------------------------------------------------------------------------------------------------------------|---------|------|-----|\n",
    "| num_beams          | number of beams for beam search decoding                                                                                              | 3       | 1    | 10  |\n",
    "| temperature        | temperature for generating tokens, lower = more predictable results                                                                   | 1    | 0.01 | 2   |\n",
    "| top_p              | sample from the top p percent most likely tokens                                                                                      | 0.9     | 0    | 1   |\n",
    "| repetition_penalty | penalty for repeated words in generated text; 1 is no penalty, values greater than 1 discourage repetition, less than 1 encourage it. | 1       | 0.01 | 5   |\n",
    "| max_new_tokens     | maximum number of new tokens to generate                                                                                              | 3000    | 1    |     |\n",
    "| max_length         | total length of prompt and output in tokens                                                                                           | 4000    | 1    |     |                                                                                             "
   ]
  },
  {
   "cell_type": "code",
   "execution_count": 147,
   "metadata": {},
   "outputs": [],
   "source": [
    "cred_path = \"../../../Desktop/others/anlp_project/credential.txt\"\n",
    "image_path = \"data/pic.png\""
   ]
  },
  {
   "cell_type": "code",
   "execution_count": 148,
   "metadata": {},
   "outputs": [],
   "source": [
    "with open(cred_path, encoding = 'utf-8') as f:\n",
    "  key = f.readline().strip()\n",
    "\n",
    "os.environ[\"REPLICATE_API_TOKEN\"] = key"
   ]
  },
  {
   "cell_type": "markdown",
   "metadata": {},
   "source": [
    "# Retrieve descriptions from MiniGPT-4"
   ]
  },
  {
   "cell_type": "code",
   "execution_count": null,
   "metadata": {},
   "outputs": [],
   "source": [
    "def get_description(iteration, beams, temp, top_p, repetition):\n",
    "  col = []\n",
    "  val = []\n",
    "\n",
    "  prompt = \"Please tell me everything you see going on in this picture.\"\n",
    "\n",
    "  for i in np.arange(0, iteration, 1):\n",
    "    col.append(i)\n",
    "    output = replicate.run(\"daanelson/minigpt-4:b96a2f33cc8e4b0aa23eacfce731b9c41a7d9466d9ed4e167375587b54db9423\",\n",
    "                           input={\"image\": open(image_path, \"rb\"),\n",
    "                                  \"prompt\": prompt,\n",
    "                                  \"num_beams\": beams,\n",
    "                                  \"temperature\": temp,\n",
    "                                  \"top_p\": top_p,\n",
    "                                  \"repetition_penalty\": repetition})\n",
    "    val.append(output)\n",
    "\n",
    "  data = {\"iteration\" : col,\n",
    "          \"num_beam\" : [beams] * len(col),\n",
    "          \"temperature\" : [temp] * len(col),\n",
    "          \"top_p\" : [top_p] * len(col),\n",
    "          \"description\": val\n",
    "      }\n",
    "\n",
    "  df = pd.DataFrame(data)\n",
    "\n",
    "  return df"
   ]
  },
  {
   "cell_type": "code",
   "execution_count": null,
   "metadata": {},
   "outputs": [],
   "source": [
    "# def get_description_df(param_list, iteration, beams, top_p, repetition):\n",
    "#   df = pd.DataFrame()\n",
    "#   for i in tqdm(param_list):\n",
    "#     #df = df.extend(get_description(iteration, beams, i, top_p, repetition))\n",
    "#     new = get_description(iteration, beams, i, top_p, repetition)\n",
    "#     df = pd.concat([df, new])\n",
    "#   df = df.reset_index(drop=True)\n",
    "\n",
    "#   return df"
   ]
  },
  {
   "cell_type": "code",
   "execution_count": null,
   "metadata": {},
   "outputs": [],
   "source": [
    "def get_description_df(param_list, iteration, top_p, temperature, repetition):\n",
    "  df = pd.DataFrame()\n",
    "  for i in tqdm(param_list):\n",
    "    #df = df.extend(get_description(iteration, beams, i, top_p, repetition))\n",
    "    #get_description(iteration, beams, temp, top_p, repetition)\n",
    "    new = get_description(iteration, i, temperature, top_p, repetition)\n",
    "    df = pd.concat([df, new])\n",
    "  df = df.reset_index(drop=True)\n",
    "\n",
    "  return df"
   ]
  },
  {
   "cell_type": "code",
   "execution_count": null,
   "metadata": {},
   "outputs": [],
   "source": [
    "# temps = np.arange(0.01, 2.002, 0.002)\n",
    "# tempsplit = np.array_split(temps, 20)"
   ]
  },
  {
   "cell_type": "code",
   "execution_count": null,
   "metadata": {},
   "outputs": [],
   "source": [
    "# for temp in tempsplit:\n",
    "#     df_continue = get_description_df(param_list = temp,\n",
    "#                    iteration = 1,\n",
    "#                    beams = 1,\n",
    "#                    top_p = 0.9,\n",
    "#                    repetition = 1)\n",
    "#     temp_name = str(np.round(temp[-1], decimals=3))\n",
    "#     df_continue.to_pickle('data/temp_data/df_'+temp_name+'.pkl')"
   ]
  },
  {
   "cell_type": "code",
   "execution_count": null,
   "metadata": {},
   "outputs": [],
   "source": [
    "# topp = np.arange(0.002, 1.001, 0.001)\n",
    "# topplist = np.array_split(topp, 20)"
   ]
  },
  {
   "cell_type": "code",
   "execution_count": null,
   "metadata": {},
   "outputs": [],
   "source": [
    "# topplist"
   ]
  },
  {
   "cell_type": "code",
   "execution_count": null,
   "metadata": {},
   "outputs": [],
   "source": [
    "# for p in topplist:\n",
    "#     df_continue = get_description_df(param_list = p,\n",
    "#                    iteration = 1,\n",
    "#                    beams = 1,\n",
    "#                    temperature = 1,\n",
    "#                    repetition = 1)\n",
    "#     p_name = str(np.round(p[-1], decimals=3))\n",
    "#     df_continue.to_pickle('data/topp_data/df_'+p_name+'.pkl')"
   ]
  },
  {
   "cell_type": "code",
   "execution_count": null,
   "metadata": {},
   "outputs": [],
   "source": [
    "beam = np.arange(1, 11, 1)\n",
    "beamlist = np.array_split(beam, 1)\n",
    "beamlist\n",
    "beamlist"
   ]
  },
  {
   "cell_type": "code",
   "execution_count": null,
   "metadata": {},
   "outputs": [],
   "source": [
    "for beam in beamlist:\n",
    "    df_continue = get_description_df(param_list = beam,\n",
    "                   iteration = 1,\n",
    "                   top_p = 0.9,\n",
    "                   temperature = 1,\n",
    "                   repetition = 1)\n",
    "    beam_name = str(np.round(beam[-1], decimals=3))\n",
    "    df_continue.to_pickle('data/beam_data/df_'+beam_name+'.pkl')"
   ]
  },
  {
   "cell_type": "code",
   "execution_count": null,
   "metadata": {},
   "outputs": [],
   "source": [
    "df = pd.DataFrame()\n",
    "for beam in beamlist:\n",
    "    beam = str(np.round(beam[-1], decimals=3))\n",
    "    p_df = pd.read_pickle('data/beam_data/df_'+beam+'.pkl')\n",
    "    df = pd.concat([df, p_df])\n",
    "    \n",
    "df = df.reset_index(drop=True)\n",
    "df\n"
   ]
  },
  {
   "cell_type": "code",
   "execution_count": null,
   "metadata": {},
   "outputs": [],
   "source": [
    "# df['description'].unique()"
   ]
  },
  {
   "cell_type": "code",
   "execution_count": null,
   "metadata": {},
   "outputs": [],
   "source": [
    "df.to_pickle(\"data/minigpt_topp_1120.pkl\")"
   ]
  },
  {
   "cell_type": "code",
   "execution_count": null,
   "metadata": {},
   "outputs": [],
   "source": [
    "# df_continue = get_description_df(param_list = np.arange(0.01, 2.002, 0.002),\n",
    "#                    iteration = 1,\n",
    "#                    beams = 1,\n",
    "#                    top_p = 0.9,\n",
    "#                    repetition = 1)"
   ]
  },
  {
   "cell_type": "code",
   "execution_count": null,
   "metadata": {},
   "outputs": [],
   "source": [
    "df_continue"
   ]
  },
  {
   "cell_type": "code",
   "execution_count": null,
   "metadata": {},
   "outputs": [],
   "source": [
    "df_continue.to_pickle('df1102.pkl')"
   ]
  },
  {
   "cell_type": "code",
   "execution_count": null,
   "metadata": {},
   "outputs": [],
   "source": [
    "# temps = np.arange(0.001, 1.001, 0.001)\n",
    "# tempsplit = np.array_split(temps, 200)\n",
    "\n",
    "folder_path = 'data/temp_data_4v/'\n",
    "dfs = []\n",
    "\n",
    "for filename in os.listdir(folder_path):\n",
    "    if filename.endswith('.pkl'):  \n",
    "        file_path = os.path.join(folder_path, filename)\n",
    "        df = pd.read_pickle(file_path)  \n",
    "        dfs.append(df)\n",
    "        \n",
    "df_temp_4v = pd.concat(dfs, ignore_index=True)"
   ]
  },
  {
   "cell_type": "code",
   "execution_count": null,
   "metadata": {},
   "outputs": [],
   "source": [
    "# df_temp_4v['model'] = ['GPT-4V'] * df_temp_4v.shape[0]\n",
    "df_temp_4v"
   ]
  },
  {
   "cell_type": "markdown",
   "metadata": {},
   "source": [
    "# Text analysis"
   ]
  },
  {
   "cell_type": "markdown",
   "metadata": {},
   "source": [
    "## Function"
   ]
  },
  {
   "cell_type": "code",
   "execution_count": null,
   "metadata": {},
   "outputs": [],
   "source": [
    "# remove punct and tokenize\n",
    "def tokenize(sent):\n",
    "    return [w.strip(string.punctuation) for w in sent.lower().split()]"
   ]
  },
  {
   "cell_type": "code",
   "execution_count": null,
   "metadata": {},
   "outputs": [],
   "source": [
    "# token-type ratio\n",
    "def word_counts(sent):\n",
    "    counts = Counter()\n",
    "    tokens = tokenize(sent)\n",
    "    for token in tokens:\n",
    "        counts[token] += 1\n",
    "    #return counts, len(counts), sum(counts.values()), len(counts)/sum(counts.values())\n",
    "    return len(counts)/sum(counts.values())"
   ]
  },
  {
   "cell_type": "code",
   "execution_count": null,
   "metadata": {},
   "outputs": [],
   "source": [
    "# average word frequency\n",
    "# https://pypi.org/project/wordfreq/\n",
    "def avg_word_freq(sent):\n",
    "    tokens = tokenize(sent)\n",
    "    \n",
    "    freqs = [zipf_frequency(token, 'en', wordlist='large', minimum=-1) for token in tokens]\n",
    "    # skip token not found\n",
    "    avg_freq = np.mean([freq for freq in freqs if freq != -1])\n",
    "\n",
    "    # if -1 in freqs:\n",
    "    #     return 'NA in list'\n",
    "    # else:\n",
    "    #     return np.mean(freqs)\n",
    "\n",
    "    return avg_freq"
   ]
  },
  {
   "cell_type": "code",
   "execution_count": null,
   "metadata": {},
   "outputs": [],
   "source": [
    "# get surprisal for each word\n",
    "m = AutoHuggingFaceModel.from_pretrained('gpt2')\n",
    "\n",
    "def get_word_surp(sent):\n",
    "    # words = []\n",
    "    # surps = []\n",
    "    words = [word for word, surp in m.surprise(sent)[0]]\n",
    "    surps = [surp for word, surp in m.surprise(sent)[0]]\n",
    "    \n",
    "    return pd.Series([words, surps])"
   ]
  },
  {
   "cell_type": "code",
   "execution_count": null,
   "metadata": {},
   "outputs": [],
   "source": [
    "# remove outliers\n",
    "def remove_outliers(df, cols):\n",
    "    for col in cols: \n",
    "        z = np.abs(stats.zscore(df[col]))\n",
    "        # print(np.where(z > 2.5))\n",
    "        print(f\"the number of outlier for the column {col} is {len(np.where(z > 2.5)[0])}\")\n",
    "        df = df.drop(np.where(z > 2.5)[0]).reset_index(drop=True)\n",
    "    \n",
    "    # newdf = df.reset_index(drop=True)\n",
    "    return df"
   ]
  },
  {
   "cell_type": "markdown",
   "metadata": {},
   "source": [
    "### MiniGPT-4"
   ]
  },
  {
   "cell_type": "code",
   "execution_count": null,
   "metadata": {},
   "outputs": [],
   "source": [
    "df_temp = pd.read_pickle(\"data/minigpt_temp_1103.pkl\")\n",
    "df_temp['id'] = df_temp.index + 1\n",
    "df_temp['model'] = ['MiniGPT-4'] * df_temp.shape[0]\n",
    "print(df_temp.shape)\n",
    "print(len(df_temp.temperature.unique()))\n",
    "df_temp.head()"
   ]
  },
  {
   "cell_type": "code",
   "execution_count": null,
   "metadata": {},
   "outputs": [],
   "source": [
    "df_topp = pd.read_pickle(\"data/minigpt_topp_1120.pkl\")\n",
    "df_topp['id'] = df_topp.index + 1\n",
    "df_topp['model'] = ['MiniGPT-4'] * df_topp.shape[0]\n",
    "print(df_topp.shape)\n",
    "df_topp.head()"
   ]
  },
  {
   "cell_type": "code",
   "execution_count": null,
   "metadata": {},
   "outputs": [],
   "source": [
    "# df['ttr'] = df['description'].apply(word_counts)\n",
    "# df['avg_freq'] = df['description'].apply(avg_word_freq)\n",
    "# df.head()"
   ]
  },
  {
   "cell_type": "code",
   "execution_count": null,
   "metadata": {},
   "outputs": [],
   "source": [
    "# df[['words', 'surps']] = df['description'].apply(get_word_surp)\n",
    "# df['uid'] = df['surps'].apply(np.var)\n",
    "# df['avg_info'] = df['surps'].apply(np.mean)"
   ]
  },
  {
   "cell_type": "code",
   "execution_count": null,
   "metadata": {},
   "outputs": [],
   "source": [
    "# df.to_pickle(\"data/minigpt_temp_1103.pkl\")\n",
    "# df.to_pickle(\"data/minigpt_topp_1120.pkl\")"
   ]
  },
  {
   "cell_type": "code",
   "execution_count": null,
   "metadata": {},
   "outputs": [],
   "source": [
    "cleandf_temp = remove_outliers(df_temp, ['uid', 'avg_freq', 'avg_info'])\n",
    "cleandf_topp = remove_outliers(df_topp, ['uid', 'avg_freq', 'avg_info'])"
   ]
  },
  {
   "cell_type": "code",
   "execution_count": null,
   "metadata": {},
   "outputs": [],
   "source": [
    "# cleandf_minigpt =  pd.concat([cleandf_temp, cleandf_temp]).reset_index(drop=True)\n",
    "cleandf_minigpt.to_pickle(\"data/clean_minigpt.pkl\")"
   ]
  },
  {
   "cell_type": "markdown",
   "metadata": {},
   "source": [
    "#### Utterance-level"
   ]
  },
  {
   "cell_type": "code",
   "execution_count": null,
   "metadata": {},
   "outputs": [],
   "source": [
    "df['sentences'] = df['description'].str.split('.')\n",
    "df"
   ]
  },
  {
   "cell_type": "code",
   "execution_count": null,
   "metadata": {},
   "outputs": [],
   "source": [
    "df.iloc[99,:]['sentences']"
   ]
  },
  {
   "cell_type": "code",
   "execution_count": null,
   "metadata": {},
   "outputs": [],
   "source": [
    "fulldf = df.explode('sentences').reset_index(drop=True)\n",
    "fulldf"
   ]
  },
  {
   "cell_type": "code",
   "execution_count": null,
   "metadata": {},
   "outputs": [],
   "source": [
    "fulldf.iloc[545,:]"
   ]
  },
  {
   "cell_type": "code",
   "execution_count": null,
   "metadata": {},
   "outputs": [],
   "source": [
    "fulldf = fulldf.loc[fulldf['sentences'] != ''].reset_index(drop=True)\n",
    "fulldf"
   ]
  },
  {
   "cell_type": "code",
   "execution_count": null,
   "metadata": {},
   "outputs": [],
   "source": [
    "get_word_surp(fulldf['sentences'][0])"
   ]
  },
  {
   "cell_type": "code",
   "execution_count": null,
   "metadata": {},
   "outputs": [],
   "source": [
    "fulldf[['words', 'surps']] = fulldf['sentences'].apply(get_word_surp)"
   ]
  },
  {
   "cell_type": "code",
   "execution_count": null,
   "metadata": {},
   "outputs": [],
   "source": [
    "fulldf"
   ]
  },
  {
   "cell_type": "code",
   "execution_count": null,
   "metadata": {},
   "outputs": [],
   "source": [
    "fulldf['uid'] = fulldf['surps'].apply(np.var)"
   ]
  },
  {
   "cell_type": "code",
   "execution_count": null,
   "metadata": {},
   "outputs": [],
   "source": [
    "import seaborn as sns\n",
    "import matplotlib.pyplot as plt"
   ]
  },
  {
   "cell_type": "code",
   "execution_count": null,
   "metadata": {},
   "outputs": [],
   "source": [
    "fulldf.head()"
   ]
  },
  {
   "cell_type": "code",
   "execution_count": null,
   "metadata": {},
   "outputs": [],
   "source": [
    "sns.histplot(data=fulldf, x='uid')"
   ]
  },
  {
   "cell_type": "code",
   "execution_count": null,
   "metadata": {},
   "outputs": [],
   "source": [
    "sns.scatterplot(data=fulldf, x='temperature', y='uid')\n",
    "import matplotlib.pyplot as plt"
   ]
  },
  {
   "cell_type": "markdown",
   "metadata": {},
   "source": [
    "### GPT-4V"
   ]
  },
  {
   "cell_type": "code",
   "execution_count": null,
   "metadata": {},
   "outputs": [],
   "source": [
    "data_path = \"data/gpt_1101.txt\""
   ]
  },
  {
   "cell_type": "code",
   "execution_count": null,
   "metadata": {},
   "outputs": [],
   "source": [
    "# with open(data_path, encoding = 'utf-8') as f:\n",
    "#     description = []\n",
    "#     for line in f:\n",
    "#         description.append(line)\n",
    "\n",
    "# gptdf = pd.DataFrame(description, columns=[\"description\"])\n",
    "# gptdf['id'] = gptdf.index\n",
    "# gptdf['model'] = ['GPT-4(V)'] * gptdf.shape[0]"
   ]
  },
  {
   "cell_type": "code",
   "execution_count": null,
   "metadata": {},
   "outputs": [],
   "source": [
    "# gptdf.head()\n",
    "# print(gptdf.shape)"
   ]
  },
  {
   "cell_type": "code",
   "execution_count": null,
   "metadata": {},
   "outputs": [],
   "source": [
    "# gptdf['ttr'] = gptdf['description'].apply(word_counts)\n",
    "# gptdf['avg_freq'] = gptdf['description'].apply(avg_word_freq)\n",
    "# gptdf.head()"
   ]
  },
  {
   "cell_type": "code",
   "execution_count": null,
   "metadata": {},
   "outputs": [],
   "source": [
    "# gptdf[['words', 'surps']] = gptdf['description'].apply(get_word_surp)\n",
    "# gptdf['uid'] = gptdf['surps'].apply(np.var)\n",
    "# gptdf['avg_info'] = gptdf['surps'].apply(np.mean)\n",
    "\n",
    "# gptdf.to_pickle(\"data/gpt_1103.pkl\")"
   ]
  },
  {
   "cell_type": "code",
   "execution_count": null,
   "metadata": {},
   "outputs": [],
   "source": [
    "chatgpt = pd.read_pickle(\"data/gpt_1103.pkl\")\n",
    "chatgpt['model'] = ['ChatGPT'] * chatgpt.shape[0]\n",
    "chatgpt"
   ]
  },
  {
   "cell_type": "code",
   "execution_count": null,
   "metadata": {},
   "outputs": [],
   "source": [
    "cleangpt = remove_outliers(chatgpt, ['uid', 'avg_freq', 'avg_info'])"
   ]
  },
  {
   "cell_type": "code",
   "execution_count": null,
   "metadata": {},
   "outputs": [],
   "source": [
    "# df_temp_4v['ttr'] = df_temp_4v['description'].apply(word_counts)\n",
    "# df_temp_4v['avg_freq'] = df_temp_4v['description'].apply(avg_word_freq)\n",
    "\n",
    "# df_temp_4v[['words', 'surps']] = df_temp_4v['description'].apply(get_word_surp)\n",
    "# df_temp_4v['uid'] = df_temp_4v['surps'].apply(np.var)\n",
    "# df_temp_4v['avg_info'] = df_temp_4v['surps'].apply(np.mean)\n",
    "\n",
    "# df_temp_4v.to_pickle(\"gpt4v_temp_1125.pkl\")"
   ]
  },
  {
   "cell_type": "code",
   "execution_count": null,
   "metadata": {},
   "outputs": [],
   "source": [
    "gptdf_gpt4v = pd.read_pickle(\"gpt4v_temp_1125.pkl\")\n",
    "cleangpt_4v = remove_outliers(gptdf_gpt4v, ['uid', 'avg_freq', 'avg_info'])"
   ]
  },
  {
   "cell_type": "code",
   "execution_count": null,
   "metadata": {},
   "outputs": [],
   "source": [
    "alldf_gpt = pd.concat([cleangpt, cleangpt_4v]).reset_index(drop=True)\n",
    "alldf_gpt"
   ]
  },
  {
   "cell_type": "code",
   "execution_count": null,
   "metadata": {},
   "outputs": [],
   "source": [
    "alldf_gpt['description'][1]"
   ]
  },
  {
   "cell_type": "code",
   "execution_count": null,
   "metadata": {},
   "outputs": [],
   "source": [
    "subset = ['description', 'ttr', 'avg_freq', 'avg_info', 'uid', 'model']\n",
    "\n",
    "alldf =  pd.concat([alldf_gpt[subset], cleandf_minigpt[subset]]).reset_index(drop=True)"
   ]
  },
  {
   "cell_type": "code",
   "execution_count": null,
   "metadata": {},
   "outputs": [],
   "source": [
    "alldf.to_pickle(\"data/clean_alldf.pkl\")"
   ]
  },
  {
   "cell_type": "markdown",
   "metadata": {},
   "source": [
    "# Visualization"
   ]
  },
  {
   "cell_type": "markdown",
   "metadata": {},
   "source": [
    "## Viz setting"
   ]
  },
  {
   "cell_type": "code",
   "execution_count": null,
   "metadata": {},
   "outputs": [],
   "source": [
    "# color_pal = [\"#eb8034\", \"#febf98\", \"#f1f1f1\", \"#96c09b\", \"#338f4a\"]\n",
    "sns.set_style(\"white\")\n",
    "# color_pal = ['#00429d', '#4771b2', '#73a2c6', '#a5d5d8', '#ffffe0', '#ffbcaf', '#f4777f', '#cf3759', '#93003a']\n",
    "color_pal = ['#00429d', '#4771b2', '#73a2c6', '#a5d5d8', '#ffffe0', '#f4d9bc', '#e7b299', '#d98c79', '#da5372']\n",
    "# color_pal = [\"#157361\", \"#91b8ad\", \"#ffffff\", \"#ffb68c\", \"#f56b16\"]\n",
    "sns.set_palette(color_pal)\n",
    "sns.color_palette(color_pal)"
   ]
  },
  {
   "cell_type": "markdown",
   "metadata": {},
   "source": [
    "## Viz"
   ]
  },
  {
   "cell_type": "code",
   "execution_count": 149,
   "metadata": {},
   "outputs": [
    {
     "data": {
      "image/png": "[encoded data removed]",
      "text/plain": [
       "<Figure size 640x480 with 1 Axes>"
      ]
     },
     "metadata": {},
     "output_type": "display_data"
    }
   ],
   "source": [
    "palette = {'GPT-4V': '#00429d', \n",
    "           'ChatGPT': '#73a2c6',\n",
    "           'MiniGPT-4': '#da5372'}\n",
    "\n",
    "sns.boxplot(alldf, x='model', y='uid', palette=palette, width=0.5, whis=1.5, linewidth=1.1, fliersize=2)\n",
    "sns.despine()\n",
    "plt.xlabel(\"Model\")\n",
    "plt.ylabel(\"UID scores\");"
   ]
  },
  {
   "cell_type": "code",
   "execution_count": 153,
   "metadata": {},
   "outputs": [
    {
     "data": {
      "image/png": "[encoded data removed]",
      "text/plain": [
       "<Figure size 640x480 with 1 Axes>"
      ]
     },
     "metadata": {},
     "output_type": "display_data"
    }
   ],
   "source": [
    "palette = {'GPT-4V': '#00429d', \n",
    "           'ChatGPT': '#73a2c6',\n",
    "           'MiniGPT-4': '#da5372'}\n",
    "\n",
    "sns.boxplot(alldf, x='model', y='avg_freq', palette=palette, width=0.5, whis=1.5, linewidth=1.1, fliersize=2)\n",
    "sns.despine()\n",
    "plt.xlabel(\"Model\")\n",
    "plt.ylabel(\"UID scores\");"
   ]
  },
  {
   "cell_type": "code",
   "execution_count": 150,
   "metadata": {},
   "outputs": [
    {
     "data": {
      "image/png": "[encoded data removed]",
      "text/plain": [
       "<Figure size 640x480 with 1 Axes>"
      ]
     },
     "metadata": {},
     "output_type": "display_data"
    }
   ],
   "source": [
    "palette = {'GPT-4V': '#00429d', \n",
    "           'ChatGPT': '#73a2c6',\n",
    "           'MiniGPT-4': '#da5372'}\n",
    "\n",
    "kwargs = {'alpha':0.4}\n",
    "ax = sns.histplot(data=alldf, x='avg_freq', hue='model', palette=palette, **kwargs, bins=35, kde=True)\n",
    "sns.despine()\n",
    "sns.move_legend(\n",
    "    ax, \"lower center\",\n",
    "    bbox_to_anchor=(0.25, 0.85), ncol=2, title=None, frameon=False)\n",
    "\n",
    "plt.xlim(4.7, 6.5)\n",
    "plt.xlabel(\"Mean word frequency (per response)\")\n",
    "plt.ylabel(\"Count\");\n",
    "# plt.savefig('plot/hist-freq.png')"
   ]
  },
  {
   "cell_type": "code",
   "execution_count": 151,
   "metadata": {},
   "outputs": [
    {
     "data": {
      "image/png": "[encoded data removed]",
      "text/plain": [
       "<Figure size 615.75x500 with 1 Axes>"
      ]
     },
     "metadata": {},
     "output_type": "display_data"
    }
   ],
   "source": [
    "palette = {'GPT-4V': '#00429d', \n",
    "           'ChatGPT': '#73a2c6',\n",
    "           'MiniGPT-4': '#da5372'}\n",
    "\n",
    "ax = sns.lmplot(data=alldf, x='avg_freq', y='uid', hue='model', palette=palette, markers='.', scatter_kws={'alpha':0.7, 'edgecolors':'none'})\n",
    "sns.despine()\n",
    "sns.move_legend(\n",
    "    ax, \"lower left\",\n",
    "    bbox_to_anchor=(0.1, 0.1), ncol=1, title=None, frameon=False)\n",
    "\n",
    "plt.xlabel(\"Mean word frequency (per response)\")\n",
    "plt.ylabel(\"Uniformity (per response)\");\n",
    "# plt.savefig('plot/freq-uid.png')"
   ]
  },
  {
   "cell_type": "code",
   "execution_count": 152,
   "metadata": {},
   "outputs": [
    {
     "data": {
      "text/plain": [
       "Text(0, 0.5, 'Count')"
      ]
     },
     "execution_count": 152,
     "metadata": {},
     "output_type": "execute_result"
    },
    {
     "data": {
      "image/png": "[encoded data removed]",
      "text/plain": [
       "<Figure size 640x480 with 1 Axes>"
      ]
     },
     "metadata": {},
     "output_type": "display_data"
    }
   ],
   "source": [
    "palette = {'GPT-4V': '#00429d', \n",
    "           'ChatGPT': '#73a2c6',\n",
    "           'MiniGPT-4': '#da5372'}\n",
    "\n",
    "kwargs = {'alpha':0.4}\n",
    "ax = sns.histplot(data=alldf, x='uid', hue='model', palette=palette, **kwargs, bins=35, kde=True)\n",
    "sns.despine()\n",
    "sns.move_legend(\n",
    "    ax, \"lower center\",\n",
    "    bbox_to_anchor=(0.25, 0.85), ncol=2, title=None, frameon=False)\n",
    "\n",
    "plt.xlim(0, 18)\n",
    "plt.ylim(0, 450)\n",
    "plt.xlabel(\"Uniformity of information distribution (per response)\")\n",
    "plt.ylabel(\"Count\")"
   ]
  },
  {
   "cell_type": "code",
   "execution_count": null,
   "metadata": {},
   "outputs": [],
   "source": [
    "# varying temperature\n",
    "sns.regplot(data=df, x=\"temperature\", y=\"uid\", order=2, marker='.', scatter_kws={'alpha':0.7, 'edgecolors': 'none'}, line_kws={'color':'#da5372'})\n",
    "sns.despine()\n",
    "plt.xlabel(\"Temperature\")\n",
    "plt.ylabel(\"Uniformity of information distribution (per response)\")\n",
    "plt.ylim(0, 18);\n",
    "plt.savefig('plot/minigpt-temp-scatter.png')"
   ]
  },
  {
   "cell_type": "code",
   "execution_count": null,
   "metadata": {},
   "outputs": [],
   "source": [
    "# varying p for top p \n",
    "sns.regplot(data=df, x=\"top_p\", y=\"uid\", order=3, marker='.', scatter_kws={'alpha':0.7, 'edgecolors': 'none'}, line_kws={'color':'#da5372'})\n",
    "sns.despine()\n",
    "plt.xlabel(\"Top P\")\n",
    "plt.ylabel(\"Uniformity of information distribution (per response)\")\n",
    "plt.ylim(0, 18);\n",
    "# plt.savefig('plot/minigpt-temp-scatter.png')"
   ]
  },
  {
   "cell_type": "code",
   "execution_count": null,
   "metadata": {},
   "outputs": [],
   "source": [
    "# varying temp for GPT-4V\n",
    "sns.regplot(data=clean_temp_4v, x=\"temperature\", y=\"uid\", order=3, marker='.', scatter_kws={'alpha':0.7, 'edgecolors': 'none'}, line_kws={'color':'#da5372'})\n",
    "sns.despine()\n",
    "plt.xlabel(\"Temperature\")\n",
    "plt.ylabel(\"Uniformity of information distribution (per response)\")\n",
    "plt.xlim(0, 0.5)\n",
    "plt.ylim(0, 18);\n",
    "# plt.savefig('plot/minigpt-temp-scatter.png')"
   ]
  },
  {
   "cell_type": "code",
   "execution_count": null,
   "metadata": {},
   "outputs": [],
   "source": [
    "palette = {'GPT-4(V)': '#00429d', \n",
    "           'MiniGPT-4': '#da5372'}\n",
    "\n",
    "kwargs = {'alpha':0.4}\n",
    "ax = sns.histplot(data=alldf, x='avg_freq', hue='model', palette=palette, **kwargs, bins=35, kde=True)\n",
    "sns.despine()\n",
    "sns.move_legend(\n",
    "    ax, \"lower center\",\n",
    "    bbox_to_anchor=(0.25, 0.93), ncol=2, title=None, frameon=False)\n",
    "\n",
    "plt.xlim(4.7, 6.5)\n",
    "plt.xlabel(\"Mean word frequency (per response)\")\n",
    "plt.ylabel(\"Count\");\n",
    "plt.savefig('plot/hist-freq.png')"
   ]
  },
  {
   "cell_type": "code",
   "execution_count": null,
   "metadata": {},
   "outputs": [],
   "source": [
    "palette = {'GPT-4(V)': '#00429d', \n",
    "           'MiniGPT-4': '#da5372'}\n",
    "\n",
    "kwargs = {'alpha':0.4}\n",
    "ax = sns.histplot(data=alldf, x='uid', hue='model', palette=palette, **kwargs, bins=35, kde=True)\n",
    "sns.despine()\n",
    "sns.move_legend(\n",
    "    ax, \"lower center\",\n",
    "    bbox_to_anchor=(0.25, 0.93), ncol=2, title=None, frameon=False)\n",
    "\n",
    "plt.xlim(0, 18)\n",
    "plt.ylim(0, 200)\n",
    "plt.xlabel(\"Uniformity of information distribution (per response)\")\n",
    "plt.ylabel(\"Count\")\n",
    "plt.savefig('plot/hist-uid.png')"
   ]
  },
  {
   "cell_type": "code",
   "execution_count": null,
   "metadata": {},
   "outputs": [],
   "source": [
    "palette = {'GPT-4(V)': '#00429d', \n",
    "           'MiniGPT-4': '#da5372'}\n",
    "\n",
    "ax = sns.lmplot(data=alldf, x='avg_freq', y='uid', hue='model', palette=palette, markers='.', scatter_kws={'alpha':0.7, 'edgecolors':'none'})\n",
    "sns.despine()\n",
    "sns.move_legend(\n",
    "    ax, \"lower left\",\n",
    "    bbox_to_anchor=(0.1, 0.1), ncol=1, title=None, frameon=False)\n",
    "\n",
    "plt.xlabel(\"Mean word frequency (per response)\")\n",
    "plt.ylabel(\"Uniformity (per response)\");\n",
    "plt.savefig('plot/freq-uid.png')"
   ]
  },
  {
   "cell_type": "code",
   "execution_count": null,
   "metadata": {},
   "outputs": [],
   "source": [
    "palette = {'GPT-4(V)': '#00429d', \n",
    "           'MiniGPT-4': '#da5372'}\n",
    "\n",
    "ax = sns.lmplot(data=alldf, x='avg_freq', y='avg_info', hue='model', palette=palette, markers='.', scatter_kws={'alpha':0.7, 'edgecolors':'none'})\n",
    "sns.despine()\n",
    "sns.move_legend(\n",
    "    ax, \"lower left\",\n",
    "    bbox_to_anchor=(0.1, 0.1), ncol=1, title=None, frameon=False)\n",
    "\n",
    "plt.xlabel(\"Mean word frequency (per response)\")\n",
    "plt.ylabel(\"Mean word surprisal (per response)\")\n",
    "plt.savefig('plot/freq-surp.png');"
   ]
  },
  {
   "cell_type": "code",
   "execution_count": null,
   "metadata": {},
   "outputs": [],
   "source": [
    "# palette = {'GPT-4(V)': '#00429d', \n",
    "#            'MiniGPT-4-low-temp': '#da5372',\n",
    "#            'MiniGPT-4-high-temp': '#d98c79'}\n",
    "# # kwargs = {'alpha':1}\n",
    "# sns.lmplot(data=alldf, x='avg_freq', y='uid', hue='model', palette=palette)\n",
    "# sns.despine()\n",
    "# plt.xlabel(\"Mean word frequency (per response)\")\n",
    "# plt.ylabel(\"Uniformity (per response)\");"
   ]
  },
  {
   "cell_type": "code",
   "execution_count": null,
   "metadata": {},
   "outputs": [],
   "source": [
    "# def label_temp(row):\n",
    "#     if row['temperature'] < 1.01:\n",
    "#         return 'MiniGPT-4-low-temp'\n",
    "#     else:\n",
    "#         return 'MiniGPT-4-high-temp'\n",
    "# df['model'] = df.apply(lambda row: label_temp(row), axis=1)"
   ]
  },
  {
   "cell_type": "markdown",
   "metadata": {},
   "source": [
    "# Utterance-level"
   ]
  },
  {
   "cell_type": "code",
   "execution_count": null,
   "metadata": {},
   "outputs": [],
   "source": [
    "gptdf['sentences'] = gptdf['Description'].str.split('.')\n",
    "gptdf"
   ]
  },
  {
   "cell_type": "code",
   "execution_count": null,
   "metadata": {},
   "outputs": [],
   "source": [
    "gptdf.iloc[9,:]['sentences']"
   ]
  },
  {
   "cell_type": "code",
   "execution_count": null,
   "metadata": {},
   "outputs": [],
   "source": [
    "gptdf = gptdf.explode('sentences').reset_index(drop=True)\n",
    "gptdf"
   ]
  },
  {
   "cell_type": "code",
   "execution_count": null,
   "metadata": {},
   "outputs": [],
   "source": [
    "gptdf = gptdf.loc[gptdf['sentences'] != ''].reset_index(drop=True)\n",
    "gptdf"
   ]
  },
  {
   "cell_type": "code",
   "execution_count": null,
   "metadata": {},
   "outputs": [],
   "source": [
    "gptdf[['words', 'surps']] = gptdf['sentences'].apply(get_word_surp)"
   ]
  },
  {
   "cell_type": "code",
   "execution_count": null,
   "metadata": {},
   "outputs": [],
   "source": [
    "gptdf['uid'] = gptdf['surps'].apply(np.var)"
   ]
  }
 ],
 "metadata": {
  "kernelspec": {
   "display_name": "ml",
   "language": "python",
   "name": "python3"
  },
  "language_info": {
   "codemirror_mode": {
    "name": "ipython",
    "version": 3
   },
   "file_extension": ".py",
   "mimetype": "text/x-python",
   "name": "python",
   "nbconvert_exporter": "python",
   "pygments_lexer": "ipython3",
   "version": "3.10.13"
  }
 },
 "nbformat": 4,
 "nbformat_minor": 2
}
